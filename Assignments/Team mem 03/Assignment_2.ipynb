{
  "nbformat": 4,
  "nbformat_minor": 0,
  "metadata": {
    "colab": {
      "provenance": []
    },
    "kernelspec": {
      "name": "python3",
      "display_name": "Python 3"
    },
    "language_info": {
      "name": "python"
    }
  },
  "cells": [
    {
      "cell_type": "markdown",
      "source": [
        "# **IMPORT THE LIBRARIES**\n"
      ],
      "metadata": {
        "id": "2YBIX_3pgIh8"
      }
    },
    {
      "cell_type": "code",
      "source": [
        "import numpy as np\n",
        "import pandas as pd\n",
        "from sklearn.preprocessing import LabelEncoder, StandardScaler\n",
        "from keras.models import Sequential\n",
        "from keras.layers import Dense"
      ],
      "metadata": {
        "id": "-rZ3EktUgSBK"
      },
      "execution_count": 1,
      "outputs": []
    },
    {
      "cell_type": "markdown",
      "source": [
        "## **LOAD THE DATASET**\n"
      ],
      "metadata": {
        "id": "LeIw3VFpgtvE"
      }
    },
    {
      "cell_type": "code",
      "source": [
        "dataset = pd.read_csv('/content/drive/MyDrive/House Price India.csv')"
      ],
      "metadata": {
        "id": "TFsCXIx9gzat"
      },
      "execution_count": 2,
      "outputs": []
    },
    {
      "cell_type": "markdown",
      "source": [
        "# **SEPARATE THE FEATURE AND TARGET VARIABLE**"
      ],
      "metadata": {
        "id": "NSKQzFkShwYU"
      }
    },
    {
      "cell_type": "code",
      "source": [
        "X = dataset.iloc[:, :-1].values\n",
        "y = dataset.iloc[:, -1].values"
      ],
      "metadata": {
        "id": "upQb1VDdh2Ur"
      },
      "execution_count": 3,
      "outputs": []
    },
    {
      "cell_type": "code",
      "source": [
        "X"
      ],
      "metadata": {
        "colab": {
          "base_uri": "https://localhost:8080/"
        },
        "id": "m5_iCPLBlv5W",
        "outputId": "85ed1c61-264d-4581-8be9-9025fd7f67d4"
      },
      "execution_count": 16,
      "outputs": [
        {
          "output_type": "execute_result",
          "data": {
            "text/plain": [
              "array([[6.76281014e+09, 4.24910000e+04, 5.00000000e+00, ...,\n",
              "        5.40000000e+03, 2.00000000e+00, 5.80000000e+01],\n",
              "       [6.76281064e+09, 4.24910000e+04, 4.00000000e+00, ...,\n",
              "        4.00000000e+03, 2.00000000e+00, 5.10000000e+01],\n",
              "       [6.76281100e+09, 4.24910000e+04, 5.00000000e+00, ...,\n",
              "        6.60000000e+03, 1.00000000e+00, 5.30000000e+01],\n",
              "       ...,\n",
              "       [6.76283062e+09, 4.27340000e+04, 2.00000000e+00, ...,\n",
              "        6.12000000e+03, 2.00000000e+00, 6.40000000e+01],\n",
              "       [6.76283071e+09, 4.27340000e+04, 4.00000000e+00, ...,\n",
              "        6.63100000e+03, 3.00000000e+00, 5.40000000e+01],\n",
              "       [6.76283146e+09, 4.27340000e+04, 3.00000000e+00, ...,\n",
              "        3.48000000e+03, 2.00000000e+00, 5.50000000e+01]])"
            ]
          },
          "metadata": {},
          "execution_count": 16
        }
      ]
    },
    {
      "cell_type": "code",
      "source": [
        "y"
      ],
      "metadata": {
        "colab": {
          "base_uri": "https://localhost:8080/"
        },
        "id": "lf58bfM8l1lv",
        "outputId": "d550906d-0941-411b-dcf7-3caba76adeb2"
      },
      "execution_count": 18,
      "outputs": [
        {
          "output_type": "execute_result",
          "data": {
            "text/plain": [
              "array([2380000, 1400000, 1200000, ...,  209000,  205000,  146000])"
            ]
          },
          "metadata": {},
          "execution_count": 18
        }
      ]
    },
    {
      "cell_type": "markdown",
      "source": [
        "# **1. PREPROCESS THE DATASET**"
      ],
      "metadata": {
        "id": "Jpt1mED0iFjG"
      }
    },
    {
      "cell_type": "markdown",
      "source": [
        "# SPLIT THE DATASET INTO TRAINING AND TESTING DATASE"
      ],
      "metadata": {
        "id": "e2Yj44_TiJRO"
      }
    },
    {
      "cell_type": "code",
      "source": [
        "from sklearn.model_selection import train_test_split\n",
        "X_train, X_test, y_train, y_test = train_test_split(X, y, test_size=0.2, random_state=42)\n",
        "sc = StandardScaler()\n",
        "     "
      ],
      "metadata": {
        "id": "dIhkGFAWiSk-"
      },
      "execution_count": 4,
      "outputs": []
    },
    {
      "cell_type": "code",
      "source": [
        "X_train = sc.fit_transform(X_train)\n",
        "X_test = sc.fit_transform(X_test)\n"
      ],
      "metadata": {
        "id": "_9_YsrXfibBl"
      },
      "execution_count": 5,
      "outputs": []
    },
    {
      "cell_type": "code",
      "source": [
        "\n",
        "X_train"
      ],
      "metadata": {
        "colab": {
          "base_uri": "https://localhost:8080/"
        },
        "id": "MZitsU7rl9RN",
        "outputId": "1117b288-bfbe-4f62-cd74-874c3eb99f0a"
      },
      "execution_count": 19,
      "outputs": [
        {
          "output_type": "execute_result",
          "data": {
            "text/plain": [
              "array([[-0.89473736, -0.26810979, -0.41264256, ...,  1.60103898,\n",
              "         1.21026137, -1.56937495],\n",
              "       [ 0.95616665,  0.79755156,  0.69151379, ...,  0.27844098,\n",
              "        -0.01360315,  1.23576993],\n",
              "       [ 1.17771644, -1.3781737 ,  0.69151379, ..., -0.18993916,\n",
              "        -1.23746766,  1.68459311],\n",
              "       ...,\n",
              "       [-1.15867059, -0.49012257, -0.41264256, ..., -0.18368129,\n",
              "        -0.01360315, -1.45716916],\n",
              "       [-0.28210403, -1.48177967, -1.51679892, ..., -0.42869785,\n",
              "        -1.23746766, -0.447317  ],\n",
              "       [ 0.26550926, -0.07569872, -0.41264256, ..., -0.28515085,\n",
              "        -1.23746766,  1.57238732]])"
            ]
          },
          "metadata": {},
          "execution_count": 19
        }
      ]
    },
    {
      "cell_type": "code",
      "source": [
        "X_test"
      ],
      "metadata": {
        "colab": {
          "base_uri": "https://localhost:8080/"
        },
        "id": "c6kzzmMMmI7_",
        "outputId": "7af015f4-6b18-4214-c88b-42f1bb18fef6"
      },
      "execution_count": 20,
      "outputs": [
        {
          "output_type": "execute_result",
          "data": {
            "text/plain": [
              "array([[ 1.4333745 , -0.83164801, -2.26540243, ..., -0.42331455,\n",
              "        -0.02048817,  1.01814492],\n",
              "       [-0.52188572, -0.75636571, -0.37901863, ..., -0.11027196,\n",
              "         1.20211187, -0.9757159 ],\n",
              "       [-0.770479  , -1.58447103, -1.32221053, ..., -0.27740682,\n",
              "         1.20211187,  0.79660483],\n",
              "       ...,\n",
              "       [-1.49106462,  1.24614351,  0.56417327, ..., -0.33633699,\n",
              "         1.20211187,  0.68583478],\n",
              "       [ 1.24744778,  0.32769943, -0.37901863, ..., -0.19851395,\n",
              "        -1.2430882 , -0.9757159 ],\n",
              "       [-0.95927594, -0.75636571,  1.50736516, ..., -0.09494552,\n",
              "        -1.2430882 , -0.86494586]])"
            ]
          },
          "metadata": {},
          "execution_count": 20
        }
      ]
    },
    {
      "cell_type": "markdown",
      "source": [
        "# **2. BUILD THE ANN MODEL**"
      ],
      "metadata": {
        "id": "hJQHiFMpijCq"
      }
    },
    {
      "cell_type": "code",
      "source": [
        "# Initialize the ANN model :\n",
        "model = Sequential()"
      ],
      "metadata": {
        "id": "WAb6XJIyiqyn"
      },
      "execution_count": 6,
      "outputs": []
    },
    {
      "cell_type": "markdown",
      "source": [
        "# A. INPUT LAYER AND B. MINIMUM TWO INPUT HIDDEN LAYERS"
      ],
      "metadata": {
        "id": "B_ftikb6iw_s"
      }
    },
    {
      "cell_type": "code",
      "source": [
        "# Add the input layer and the first hidden layer :\n",
        "model.add(Dense(units=10, activation='relu', input_dim=X_train.shape[1]))"
      ],
      "metadata": {
        "id": "gPw0cKRBi1GB"
      },
      "execution_count": 7,
      "outputs": []
    },
    {
      "cell_type": "markdown",
      "source": [
        "# B. MINIMUM TWO INPUT HIDDEN LAYERS"
      ],
      "metadata": {
        "id": "YSlM5lx1jHJj"
      }
    },
    {
      "cell_type": "code",
      "source": [
        "# Add the second hidden layer :\n",
        "model.add(Dense(units=8, activation='relu'))"
      ],
      "metadata": {
        "id": "Gx9DxS1Hi9Jn"
      },
      "execution_count": 8,
      "outputs": []
    },
    {
      "cell_type": "markdown",
      "source": [
        "# C. ADD THE OUTPUT LAYER"
      ],
      "metadata": {
        "id": "0S1R-NPgjK7a"
      }
    },
    {
      "cell_type": "code",
      "source": [
        "# Add the output layer:\n",
        "model.add(Dense(units=1, activation='sigmoid'))"
      ],
      "metadata": {
        "id": "Roq_D4VOjR7l"
      },
      "execution_count": 9,
      "outputs": []
    },
    {
      "cell_type": "code",
      "source": [
        "# Compile the model:\n",
        "model.compile(optimizer='adam', loss='binary_crossentropy', metrics=['accuracy'])\n",
        "     "
      ],
      "metadata": {
        "id": "6kVlR7NsjceK"
      },
      "execution_count": 10,
      "outputs": []
    },
    {
      "cell_type": "code",
      "source": [
        "#TRAIN THE MODEL\n",
        "model.fit(X_train, y_train, batch_size=32, epochs=100, validation_data=(X_test, y_test))\n"
      ],
      "metadata": {
        "colab": {
          "base_uri": "https://localhost:8080/"
        },
        "id": "ibBNTnsakfoo",
        "outputId": "3ae617ac-bb5c-43c6-8ae2-170b8aef1ff9"
      },
      "execution_count": 12,
      "outputs": [
        {
          "output_type": "stream",
          "name": "stdout",
          "text": [
            "Epoch 1/100\n",
            "366/366 [==============================] - 3s 4ms/step - loss: -9451210.0000 - accuracy: 0.0000e+00 - val_loss: -33919096.0000 - val_accuracy: 0.0000e+00\n",
            "Epoch 2/100\n",
            "366/366 [==============================] - 1s 3ms/step - loss: -129822096.0000 - accuracy: 0.0000e+00 - val_loss: -282562880.0000 - val_accuracy: 0.0000e+00\n",
            "Epoch 3/100\n",
            "366/366 [==============================] - 1s 3ms/step - loss: -552564352.0000 - accuracy: 0.0000e+00 - val_loss: -923131776.0000 - val_accuracy: 0.0000e+00\n",
            "Epoch 4/100\n",
            "366/366 [==============================] - 1s 2ms/step - loss: -1394109312.0000 - accuracy: 0.0000e+00 - val_loss: -2018672512.0000 - val_accuracy: 0.0000e+00\n",
            "Epoch 5/100\n",
            "366/366 [==============================] - 1s 2ms/step - loss: -2750095616.0000 - accuracy: 0.0000e+00 - val_loss: -3711211264.0000 - val_accuracy: 0.0000e+00\n",
            "Epoch 6/100\n",
            "366/366 [==============================] - 1s 2ms/step - loss: -4695830528.0000 - accuracy: 0.0000e+00 - val_loss: -6006230016.0000 - val_accuracy: 0.0000e+00\n",
            "Epoch 7/100\n",
            "366/366 [==============================] - 1s 2ms/step - loss: -7237700608.0000 - accuracy: 0.0000e+00 - val_loss: -8936306688.0000 - val_accuracy: 0.0000e+00\n",
            "Epoch 8/100\n",
            "366/366 [==============================] - 1s 2ms/step - loss: -19051163648.0000 - accuracy: 0.0000e+00 - val_loss: -22144610304.0000 - val_accuracy: 0.0000e+00\n",
            "Epoch 11/100\n",
            "366/366 [==============================] - 1s 2ms/step - loss: -24486877184.0000 - accuracy: 0.0000e+00 - val_loss: -28131280896.0000 - val_accuracy: 0.0000e+00\n",
            "Epoch 12/100\n",
            "366/366 [==============================] - 1s 2ms/step - loss: -30730196992.0000 - accuracy: 0.0000e+00 - val_loss: -34917797888.0000 - val_accuracy: 0.0000e+00\n",
            "Epoch 13/100\n",
            "366/366 [==============================] - 1s 2ms/step - loss: -37769940992.0000 - accuracy: 0.0000e+00 - val_loss: -42564386816.0000 - val_accuracy: 0.0000e+00\n",
            "Epoch 14/100\n",
            "366/366 [==============================] - 1s 2ms/step - loss: -45675532288.0000 - accuracy: 0.0000e+00 - val_loss: -51099119616.0000 - val_accuracy: 0.0000e+00\n",
            "Epoch 15/100\n",
            "366/366 [==============================] - 1s 2ms/step - loss: -54435528704.0000 - accuracy: 0.0000e+00 - val_loss: -60492689408.0000 - val_accuracy: 0.0000e+00\n",
            "Epoch 16/100\n",
            "366/366 [==============================] - 1s 2ms/step - loss: -64038858752.0000 - accuracy: 0.0000e+00 - val_loss: -70839042048.0000 - val_accuracy: 0.0000e+00\n",
            "Epoch 17/100\n",
            "366/366 [==============================] - 1s 2ms/step - loss: -74563911680.0000 - accuracy: 0.0000e+00 - val_loss: -82079465472.0000 - val_accuracy: 0.0000e+00\n",
            "Epoch 18/100\n",
            "366/366 [==============================] - 1s 3ms/step - loss: -86076719104.0000 - accuracy: 0.0000e+00 - val_loss: -94376312832.0000 - val_accuracy: 0.0000e+00\n",
            "Epoch 19/100\n",
            "366/366 [==============================] - 1s 3ms/step - loss: -98497544192.0000 - accuracy: 0.0000e+00 - val_loss: -107586437120.0000 - val_accuracy: 0.0000e+00\n",
            "Epoch 20/100\n",
            "366/366 [==============================] - 1s 3ms/step - loss: -111969992704.0000 - accuracy: 0.0000e+00 - val_loss: -121947365376.0000 - val_accuracy: 0.0000e+00\n",
            "Epoch 21/100\n",
            "366/366 [==============================] - 1s 2ms/step - loss: -126550016000.0000 - accuracy: 0.0000e+00 - val_loss: -137453289472.0000 - val_accuracy: 0.0000e+00\n",
            "Epoch 22/100\n",
            "366/366 [==============================] - 1s 2ms/step - loss: -142205698048.0000 - accuracy: 0.0000e+00 - val_loss: -154010533888.0000 - val_accuracy: 0.0000e+00\n",
            "Epoch 23/100\n",
            "366/366 [==============================] - 1s 2ms/step - loss: -158902632448.0000 - accuracy: 0.0000e+00 - val_loss: -171703025664.0000 - val_accuracy: 0.0000e+00\n",
            "Epoch 24/100\n",
            "366/366 [==============================] - 1s 2ms/step - loss: -176698966016.0000 - accuracy: 0.0000e+00 - val_loss: -190443470848.0000 - val_accuracy: 0.0000e+00\n",
            "Epoch 25/100\n",
            "366/366 [==============================] - 1s 2ms/step - loss: -195627089920.0000 - accuracy: 0.0000e+00 - val_loss: -210406096896.0000 - val_accuracy: 0.0000e+00\n",
            "Epoch 26/100\n",
            "366/366 [==============================] - 1s 2ms/step - loss: -215927308288.0000 - accuracy: 0.0000e+00 - val_loss: -231910899712.0000 - val_accuracy: 0.0000e+00\n",
            "Epoch 27/100\n",
            "366/366 [==============================] - 1s 2ms/step - loss: -237332332544.0000 - accuracy: 0.0000e+00 - val_loss: -254417256448.0000 - val_accuracy: 0.0000e+00\n",
            "Epoch 28/100\n",
            "366/366 [==============================] - 1s 2ms/step - loss: -259822501888.0000 - accuracy: 0.0000e+00 - val_loss: -278101852160.0000 - val_accuracy: 0.0000e+00\n",
            "Epoch 29/100\n",
            "366/366 [==============================] - 1s 2ms/step - loss: -283646590976.0000 - accuracy: 0.0000e+00 - val_loss: -303130312704.0000 - val_accuracy: 0.0000e+00\n",
            "Epoch 30/100\n",
            "366/366 [==============================] - 1s 2ms/step - loss: -308790067200.0000 - accuracy: 0.0000e+00 - val_loss: -329589129216.0000 - val_accuracy: 0.0000e+00\n",
            "Epoch 31/100\n",
            "366/366 [==============================] - 1s 2ms/step - loss: -335347023872.0000 - accuracy: 0.0000e+00 - val_loss: -357542821888.0000 - val_accuracy: 0.0000e+00\n",
            "Epoch 32/100\n",
            "366/366 [==============================] - 1s 2ms/step - loss: -363282530304.0000 - accuracy: 0.0000e+00 - val_loss: -386761785344.0000 - val_accuracy: 0.0000e+00\n",
            "Epoch 33/100\n",
            "366/366 [==============================] - 1s 2ms/step - loss: -392619261952.0000 - accuracy: 0.0000e+00 - val_loss: -417621475328.0000 - val_accuracy: 0.0000e+00\n",
            "Epoch 34/100\n",
            "366/366 [==============================] - 1s 2ms/step - loss: -423305740288.0000 - accuracy: 0.0000e+00 - val_loss: -449762721792.0000 - val_accuracy: 0.0000e+00\n",
            "Epoch 35/100\n",
            "366/366 [==============================] - 1s 3ms/step - loss: -455519961088.0000 - accuracy: 0.0000e+00 - val_loss: -483599286272.0000 - val_accuracy: 0.0000e+00\n",
            "Epoch 36/100\n",
            "366/366 [==============================] - 1s 3ms/step - loss: -489256058880.0000 - accuracy: 0.0000e+00 - val_loss: -518827900928.0000 - val_accuracy: 0.0000e+00\n",
            "Epoch 37/100\n",
            "366/366 [==============================] - 1s 3ms/step - loss: -524295340032.0000 - accuracy: 0.0000e+00 - val_loss: -555363139584.0000 - val_accuracy: 0.0000e+00\n",
            "Epoch 38/100\n",
            "366/366 [==============================] - 1s 3ms/step - loss: -560796991488.0000 - accuracy: 0.0000e+00 - val_loss: -593617223680.0000 - val_accuracy: 0.0000e+00\n",
            "Epoch 39/100\n",
            "366/366 [==============================] - 1s 2ms/step - loss: -598967189504.0000 - accuracy: 0.0000e+00 - val_loss: -633626427392.0000 - val_accuracy: 0.0000e+00\n",
            "Epoch 40/100\n",
            "366/366 [==============================] - 1s 2ms/step - loss: -638786863104.0000 - accuracy: 0.0000e+00 - val_loss: -675214655488.0000 - val_accuracy: 0.0000e+00\n",
            "Epoch 41/100\n",
            "366/366 [==============================] - 1s 2ms/step - loss: -680211120128.0000 - accuracy: 0.0000e+00 - val_loss: -718700019712.0000 - val_accuracy: 0.0000e+00\n",
            "Epoch 42/100\n",
            "366/366 [==============================] - 1s 2ms/step - loss: -723398754304.0000 - accuracy: 0.0000e+00 - val_loss: -763460648960.0000 - val_accuracy: 0.0000e+00\n",
            "Epoch 43/100\n",
            "366/366 [==============================] - 1s 2ms/step - loss: -768349241344.0000 - accuracy: 0.0000e+00 - val_loss: -810706731008.0000 - val_accuracy: 0.0000e+00\n",
            "Epoch 44/100\n",
            "366/366 [==============================] - 1s 2ms/step - loss: -815035252736.0000 - accuracy: 0.0000e+00 - val_loss: -859226832896.0000 - val_accuracy: 0.0000e+00\n",
            "Epoch 45/100\n",
            "366/366 [==============================] - 1s 2ms/step - loss: -863426772992.0000 - accuracy: 0.0000e+00 - val_loss: -909344309248.0000 - val_accuracy: 0.0000e+00\n",
            "Epoch 46/100\n",
            "366/366 [==============================] - 1s 2ms/step - loss: -913501913088.0000 - accuracy: 0.0000e+00 - val_loss: -961710587904.0000 - val_accuracy: 0.0000e+00\n",
            "Epoch 47/100\n",
            "366/366 [==============================] - 1s 2ms/step - loss: -965118918656.0000 - accuracy: 0.0000e+00 - val_loss: -1015691476992.0000 - val_accuracy: 0.0000e+00\n",
            "Epoch 48/100\n",
            "366/366 [==============================] - 1s 2ms/step - loss: -1018476953600.0000 - accuracy: 0.0000e+00 - val_loss: -1071255781376.0000 - val_accuracy: 0.0000e+00\n",
            "Epoch 49/100\n",
            "366/366 [==============================] - 1s 2ms/step - loss: -1073855594496.0000 - accuracy: 0.0000e+00 - val_loss: -1129037299712.0000 - val_accuracy: 0.0000e+00\n",
            "Epoch 50/100\n",
            "366/366 [==============================] - 1s 2ms/step - loss: -1131426480128.0000 - accuracy: 0.0000e+00 - val_loss: -1189144428544.0000 - val_accuracy: 0.0000e+00\n",
            "Epoch 51/100\n",
            "366/366 [==============================] - 1s 2ms/step - loss: -1190898696192.0000 - accuracy: 0.0000e+00 - val_loss: -1250942779392.0000 - val_accuracy: 0.0000e+00\n",
            "Epoch 52/100\n",
            "366/366 [==============================] - 1s 2ms/step - loss: -1252365565952.0000 - accuracy: 0.0000e+00 - val_loss: -1314671427584.0000 - val_accuracy: 0.0000e+00\n",
            "Epoch 53/100\n",
            "366/366 [==============================] - 1s 3ms/step - loss: -1315530604544.0000 - accuracy: 0.0000e+00 - val_loss: -1380687806464.0000 - val_accuracy: 0.0000e+00\n",
            "Epoch 54/100\n",
            "366/366 [==============================] - 1s 3ms/step - loss: -1380645470208.0000 - accuracy: 0.0000e+00 - val_loss: -1448513372160.0000 - val_accuracy: 0.0000e+00\n",
            "Epoch 55/100\n",
            "366/366 [==============================] - 2s 5ms/step - loss: -1447933640704.0000 - accuracy: 0.0000e+00 - val_loss: -1518281818112.0000 - val_accuracy: 0.0000e+00\n",
            "Epoch 56/100\n",
            "366/366 [==============================] - 1s 3ms/step - loss: -1517312933888.0000 - accuracy: 0.0000e+00 - val_loss: -1590286221312.0000 - val_accuracy: 0.0000e+00\n",
            "Epoch 57/100\n",
            "366/366 [==============================] - 1s 2ms/step - loss: -1588885585920.0000 - accuracy: 0.0000e+00 - val_loss: -1664599326720.0000 - val_accuracy: 0.0000e+00\n",
            "Epoch 58/100\n",
            "366/366 [==============================] - 1s 3ms/step - loss: -1662528913408.0000 - accuracy: 0.0000e+00 - val_loss: -1741441728512.0000 - val_accuracy: 0.0000e+00\n",
            "Epoch 59/100\n",
            "366/366 [==============================] - 1s 3ms/step - loss: -1738052730880.0000 - accuracy: 0.0000e+00 - val_loss: -1819597209600.0000 - val_accuracy: 0.0000e+00\n",
            "Epoch 60/100\n",
            "366/366 [==============================] - 1s 2ms/step - loss: -1815786684416.0000 - accuracy: 0.0000e+00 - val_loss: -1900415680512.0000 - val_accuracy: 0.0000e+00\n",
            "Epoch 61/100\n",
            "366/366 [==============================] - 1s 2ms/step - loss: -1895939440640.0000 - accuracy: 0.0000e+00 - val_loss: -1983803031552.0000 - val_accuracy: 0.0000e+00\n",
            "Epoch 62/100\n",
            "366/366 [==============================] - 1s 2ms/step - loss: -1978579025920.0000 - accuracy: 0.0000e+00 - val_loss: -2069781676032.0000 - val_accuracy: 0.0000e+00\n",
            "Epoch 63/100\n",
            "366/366 [==============================] - 1s 3ms/step - loss: -2063434121216.0000 - accuracy: 0.0000e+00 - val_loss: -2157745143808.0000 - val_accuracy: 0.0000e+00\n",
            "Epoch 64/100\n",
            "366/366 [==============================] - 1s 3ms/step - loss: -2150590316544.0000 - accuracy: 0.0000e+00 - val_loss: -2248211169280.0000 - val_accuracy: 0.0000e+00\n",
            "Epoch 65/100\n",
            "366/366 [==============================] - 1s 2ms/step - loss: -2240055083008.0000 - accuracy: 0.0000e+00 - val_loss: -2340829003776.0000 - val_accuracy: 0.0000e+00\n",
            "Epoch 66/100\n",
            "366/366 [==============================] - 1s 2ms/step - loss: -2332052946944.0000 - accuracy: 0.0000e+00 - val_loss: -2436557438976.0000 - val_accuracy: 0.0000e+00\n",
            "Epoch 67/100\n",
            "366/366 [==============================] - 1s 3ms/step - loss: -2425894993920.0000 - accuracy: 0.0000e+00 - val_loss: -2533827280896.0000 - val_accuracy: 0.0000e+00\n",
            "Epoch 68/100\n",
            "366/366 [==============================] - 1s 3ms/step - loss: -2522437386240.0000 - accuracy: 0.0000e+00 - val_loss: -2633896296448.0000 - val_accuracy: 0.0000e+00\n",
            "Epoch 69/100\n",
            "366/366 [==============================] - 1s 3ms/step - loss: -2621382066176.0000 - accuracy: 0.0000e+00 - val_loss: -2736295772160.0000 - val_accuracy: 0.0000e+00\n",
            "Epoch 70/100\n",
            "366/366 [==============================] - 2s 5ms/step - loss: -2722457190400.0000 - accuracy: 0.0000e+00 - val_loss: -2841375145984.0000 - val_accuracy: 0.0000e+00\n",
            "Epoch 71/100\n",
            "366/366 [==============================] - 1s 2ms/step - loss: -2826153754624.0000 - accuracy: 0.0000e+00 - val_loss: -2948553768960.0000 - val_accuracy: 0.0000e+00\n",
            "Epoch 72/100\n",
            "366/366 [==============================] - 1s 2ms/step - loss: -2932423000064.0000 - accuracy: 0.0000e+00 - val_loss: -3058308218880.0000 - val_accuracy: 0.0000e+00\n",
            "Epoch 73/100\n",
            "366/366 [==============================] - 1s 2ms/step - loss: -3041361920000.0000 - accuracy: 0.0000e+00 - val_loss: -3171965992960.0000 - val_accuracy: 0.0000e+00\n",
            "Epoch 74/100\n",
            "366/366 [==============================] - 1s 2ms/step - loss: -3152968679424.0000 - accuracy: 0.0000e+00 - val_loss: -3287648043008.0000 - val_accuracy: 0.0000e+00\n",
            "Epoch 75/100\n",
            "366/366 [==============================] - 1s 2ms/step - loss: -3267153625088.0000 - accuracy: 0.0000e+00 - val_loss: -3405297221632.0000 - val_accuracy: 0.0000e+00\n",
            "Epoch 76/100\n",
            "366/366 [==============================] - 1s 2ms/step - loss: -3383822123008.0000 - accuracy: 0.0000e+00 - val_loss: -3526606979072.0000 - val_accuracy: 0.0000e+00\n",
            "Epoch 77/100\n",
            "366/366 [==============================] - 1s 2ms/step - loss: -3502853586944.0000 - accuracy: 0.0000e+00 - val_loss: -3649864728576.0000 - val_accuracy: 0.0000e+00\n",
            "Epoch 78/100\n",
            "366/366 [==============================] - 1s 2ms/step - loss: -3624660893696.0000 - accuracy: 0.0000e+00 - val_loss: -3776474775552.0000 - val_accuracy: 0.0000e+00\n",
            "Epoch 79/100\n",
            "366/366 [==============================] - 1s 2ms/step - loss: -3749368037376.0000 - accuracy: 0.0000e+00 - val_loss: -3905380417536.0000 - val_accuracy: 0.0000e+00\n",
            "Epoch 80/100\n",
            "366/366 [==============================] - 1s 2ms/step - loss: -3876802527232.0000 - accuracy: 0.0000e+00 - val_loss: -4037645697024.0000 - val_accuracy: 0.0000e+00\n",
            "Epoch 81/100\n",
            "366/366 [==============================] - 1s 2ms/step - loss: -4007873216512.0000 - accuracy: 0.0000e+00 - val_loss: -4173255147520.0000 - val_accuracy: 0.0000e+00\n",
            "Epoch 82/100\n",
            "366/366 [==============================] - 1s 2ms/step - loss: -4141714243584.0000 - accuracy: 0.0000e+00 - val_loss: -4311541612544.0000 - val_accuracy: 0.0000e+00\n",
            "Epoch 83/100\n",
            "366/366 [==============================] - 1s 2ms/step - loss: -4277810495488.0000 - accuracy: 0.0000e+00 - val_loss: -4452748623872.0000 - val_accuracy: 0.0000e+00\n",
            "Epoch 84/100\n",
            "366/366 [==============================] - 1s 3ms/step - loss: -4416532905984.0000 - accuracy: 0.0000e+00 - val_loss: -4595802701824.0000 - val_accuracy: 0.0000e+00\n",
            "Epoch 85/100\n",
            "366/366 [==============================] - 1s 3ms/step - loss: -4558183989248.0000 - accuracy: 0.0000e+00 - val_loss: -4742405685248.0000 - val_accuracy: 0.0000e+00\n",
            "Epoch 86/100\n",
            "366/366 [==============================] - 1s 3ms/step - loss: -4702966644736.0000 - accuracy: 0.0000e+00 - val_loss: -4892856942592.0000 - val_accuracy: 0.0000e+00\n",
            "Epoch 87/100\n",
            "366/366 [==============================] - 1s 3ms/step - loss: -4850550571008.0000 - accuracy: 0.0000e+00 - val_loss: -5045193539584.0000 - val_accuracy: 0.0000e+00\n",
            "Epoch 88/100\n",
            "366/366 [==============================] - 1s 2ms/step - loss: -5001041149952.0000 - accuracy: 0.0000e+00 - val_loss: -5201143005184.0000 - val_accuracy: 0.0000e+00\n",
            "Epoch 89/100\n",
            "366/366 [==============================] - 1s 2ms/step - loss: -5154738274304.0000 - accuracy: 0.0000e+00 - val_loss: -5359883780096.0000 - val_accuracy: 0.0000e+00\n",
            "Epoch 90/100\n",
            "366/366 [==============================] - 1s 3ms/step - loss: -5310447616000.0000 - accuracy: 0.0000e+00 - val_loss: -5520186933248.0000 - val_accuracy: 0.0000e+00\n",
            "Epoch 91/100\n",
            "366/366 [==============================] - 1s 2ms/step - loss: -5470406311936.0000 - accuracy: 0.0000e+00 - val_loss: -5686961373184.0000 - val_accuracy: 0.0000e+00\n",
            "Epoch 92/100\n",
            "366/366 [==============================] - 1s 2ms/step - loss: -5632927203328.0000 - accuracy: 0.0000e+00 - val_loss: -5854385930240.0000 - val_accuracy: 0.0000e+00\n",
            "Epoch 93/100\n",
            "366/366 [==============================] - 1s 2ms/step - loss: -5798301270016.0000 - accuracy: 0.0000e+00 - val_loss: -6024731820032.0000 - val_accuracy: 0.0000e+00\n",
            "Epoch 94/100\n",
            "366/366 [==============================] - 1s 2ms/step - loss: -5967048081408.0000 - accuracy: 0.0000e+00 - val_loss: -6199124164608.0000 - val_accuracy: 0.0000e+00\n",
            "Epoch 95/100\n",
            "366/366 [==============================] - 1s 2ms/step - loss: -6139041284096.0000 - accuracy: 0.0000e+00 - val_loss: -6377747513344.0000 - val_accuracy: 0.0000e+00\n",
            "Epoch 96/100\n",
            "366/366 [==============================] - 1s 2ms/step - loss: -6314349559808.0000 - accuracy: 0.0000e+00 - val_loss: -6558723342336.0000 - val_accuracy: 0.0000e+00\n",
            "Epoch 97/100\n",
            "366/366 [==============================] - 1s 2ms/step - loss: -6492317024256.0000 - accuracy: 0.0000e+00 - val_loss: -6742123479040.0000 - val_accuracy: 0.0000e+00\n",
            "Epoch 98/100\n",
            "366/366 [==============================] - 1s 2ms/step - loss: -6673195335680.0000 - accuracy: 0.0000e+00 - val_loss: -6929077764096.0000 - val_accuracy: 0.0000e+00\n",
            "Epoch 99/100\n",
            "366/366 [==============================] - 1s 2ms/step - loss: -6858296262656.0000 - accuracy: 0.0000e+00 - val_loss: -7121713233920.0000 - val_accuracy: 0.0000e+00\n",
            "Epoch 100/100\n",
            "366/366 [==============================] - 1s 2ms/step - loss: -7046738477056.0000 - accuracy: 0.0000e+00 - val_loss: -7316162215936.0000 - val_accuracy: 0.0000e+00\n"
          ]
        },
        {
          "output_type": "execute_result",
          "data": {
            "text/plain": [
              "<keras.callbacks.History at 0x7fbe7946fb50>"
            ]
          },
          "metadata": {},
          "execution_count": 12
        }
      ]
    },
    {
      "cell_type": "markdown",
      "source": [
        "# **3. TEST THE MODEL**"
      ],
      "metadata": {
        "id": "lab7hvaGk96s"
      }
    },
    {
      "cell_type": "code",
      "source": [
        "y_pred = model.predict(X_test)\n",
        "y_pred = (y_pred > 0.5)"
      ],
      "metadata": {
        "colab": {
          "base_uri": "https://localhost:8080/"
        },
        "id": "c0y-df7FlBik",
        "outputId": "e9d7cb7f-694a-48a6-c8de-ee35ceffdd71"
      },
      "execution_count": 13,
      "outputs": [
        {
          "output_type": "stream",
          "name": "stdout",
          "text": [
            "92/92 [==============================] - 0s 1ms/step\n"
          ]
        }
      ]
    },
    {
      "cell_type": "markdown",
      "source": [
        "# EVALUATE THE MODEL"
      ],
      "metadata": {
        "id": "dfl5xI8NlYJb"
      }
    },
    {
      "cell_type": "code",
      "source": [
        "from sklearn.metrics import confusion_matrix\n",
        "cm = confusion_matrix(y_test, y_pred)\n",
        "print(cm)"
      ],
      "metadata": {
        "colab": {
          "base_uri": "https://localhost:8080/"
        },
        "id": "A9kheX1bla9b",
        "outputId": "4f199233-cd8a-4798-c4a0-133277caee25"
      },
      "execution_count": 14,
      "outputs": [
        {
          "output_type": "stream",
          "name": "stdout",
          "text": [
            "[[0 0 0 ... 0 0 0]\n",
            " [1 0 0 ... 0 0 0]\n",
            " [1 0 0 ... 0 0 0]\n",
            " ...\n",
            " [1 0 0 ... 0 0 0]\n",
            " [1 0 0 ... 0 0 0]\n",
            " [1 0 0 ... 0 0 0]]\n"
          ]
        }
      ]
    }
  ]
}