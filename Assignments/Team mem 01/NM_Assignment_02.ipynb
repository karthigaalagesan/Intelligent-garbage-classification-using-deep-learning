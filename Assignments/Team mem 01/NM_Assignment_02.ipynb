{
  "nbformat": 4,
  "nbformat_minor": 0,
  "metadata": {
    "colab": {
      "provenance": []
    },
    "kernelspec": {
      "name": "python3",
      "display_name": "Python 3"
    },
    "language_info": {
      "name": "python"
    }
  },
  "cells": [
    {
      "cell_type": "markdown",
      "source": [
        "**IMPORT THE LIBRARIES**"
      ],
      "metadata": {
        "id": "-pJR3ctst3y1"
      }
    },
    {
      "cell_type": "code",
      "source": [
        "import numpy as np\n",
        "import pandas as pd\n",
        "from sklearn.preprocessing import LabelEncoder, StandardScaler\n",
        "from keras.models import Sequential\n",
        "from keras.layers import Dense"
      ],
      "metadata": {
        "id": "uzz69V55t6MR"
      },
      "execution_count": null,
      "outputs": []
    },
    {
      "cell_type": "markdown",
      "source": [
        "**LOAD THE DATASET**"
      ],
      "metadata": {
        "id": "vBFgc9X1t9HB"
      }
    },
    {
      "cell_type": "code",
      "source": [
        "dataset = pd.read_csv('/content/drive/MyDrive/NM/House Price India-Assignment-02.csv')"
      ],
      "metadata": {
        "id": "cGI30s6ft_Ss"
      },
      "execution_count": null,
      "outputs": []
    },
    {
      "cell_type": "markdown",
      "source": [
        "**SEPARATE THE FEATURE AND TARGET VARIABLE**"
      ],
      "metadata": {
        "id": "2Muso4aduHcQ"
      }
    },
    {
      "cell_type": "code",
      "source": [
        "X = dataset.iloc[:, :-1].values\n",
        "y = dataset.iloc[:, -1].values"
      ],
      "metadata": {
        "id": "LObyhvl7uJr-"
      },
      "execution_count": null,
      "outputs": []
    },
    {
      "cell_type": "markdown",
      "source": [
        "**1. PREPROCESS THE DATASET**"
      ],
      "metadata": {
        "id": "P_W2xKvxuNgp"
      }
    },
    {
      "cell_type": "markdown",
      "source": [
        "**SPLIT THE DATASET INTO TRAINING AND TESTING DATASET**"
      ],
      "metadata": {
        "id": "9_sXt0VnuQA7"
      }
    },
    {
      "cell_type": "code",
      "source": [
        "from sklearn.model_selection import train_test_split\n",
        "X_train, X_test, y_train, y_test = train_test_split(X, y, test_size=0.2, random_state=42)\n",
        "sc = StandardScaler()"
      ],
      "metadata": {
        "id": "YUce5KFouR3R"
      },
      "execution_count": null,
      "outputs": []
    },
    {
      "cell_type": "code",
      "source": [
        "X_train = sc.fit_transform(X_train)\n",
        "X_test = sc.fit_transform(X_test)"
      ],
      "metadata": {
        "id": "Ft-yI85TuamA"
      },
      "execution_count": null,
      "outputs": []
    },
    {
      "cell_type": "markdown",
      "source": [
        "**2. BUILD THE ANN MODEL**"
      ],
      "metadata": {
        "id": "VzrCrYj8udra"
      }
    },
    {
      "cell_type": "code",
      "source": [
        "# Initialize the ANN model :\n",
        "model = Sequential()"
      ],
      "metadata": {
        "id": "a_sw4EVSugfY"
      },
      "execution_count": null,
      "outputs": []
    },
    {
      "cell_type": "markdown",
      "source": [
        "**A. INPUT LAYER AND\n",
        "B. MINIMUM TWO INPUT HIDDEN LAYERS**"
      ],
      "metadata": {
        "id": "aBFZwLe9uh84"
      }
    },
    {
      "cell_type": "code",
      "source": [
        "# Add the input layer and the first hidden layer :\n",
        "model.add(Dense(units=10, activation='relu', input_dim=X_train.shape[1]))\n",
        "     \n",
        "# Add the second hidden layer :\n",
        "model.add(Dense(units=8, activation='relu'))"
      ],
      "metadata": {
        "id": "F3m9mQbjupcy"
      },
      "execution_count": null,
      "outputs": []
    },
    {
      "cell_type": "markdown",
      "source": [
        "**C. ADD THE OUTPUT LAYER**"
      ],
      "metadata": {
        "id": "u2DTbZ4Pu-cN"
      }
    },
    {
      "cell_type": "code",
      "source": [
        "# Add the output layer:\n",
        "model.add(Dense(units=1, activation='sigmoid'))\n",
        "     \n",
        "# Compile the model:\n",
        "model.compile(optimizer='adam', loss='binary_crossentropy', metrics=['accuracy'])"
      ],
      "metadata": {
        "id": "Ru3EZAl6vDuJ"
      },
      "execution_count": null,
      "outputs": []
    },
    {
      "cell_type": "markdown",
      "source": [
        "**TRAIN THE MODEL**"
      ],
      "metadata": {
        "id": "NB3cZVwEvHo9"
      }
    },
    {
      "cell_type": "code",
      "source": [
        "model.fit(X_train, y_train, batch_size=32, epochs=100, validation_data=(X_test, y_test))"
      ],
      "metadata": {
        "colab": {
          "base_uri": "https://localhost:8080/"
        },
        "id": "McPOWsaLvJ3Y",
        "outputId": "4e1843b8-0fdb-4cf6-b4e5-d653e47c2866"
      },
      "execution_count": null,
      "outputs": [
        {
          "output_type": "stream",
          "name": "stdout",
          "text": [
            "Epoch 1/100\n",
            "366/366 [==============================] - 2s 3ms/step - loss: -8506279.0000 - accuracy: 0.0000e+00 - val_loss: -35662432.0000 - val_accuracy: 0.0000e+00\n",
            "Epoch 2/100\n",
            "366/366 [==============================] - 1s 2ms/step - loss: -154656544.0000 - accuracy: 0.0000e+00 - val_loss: -361288704.0000 - val_accuracy: 0.0000e+00\n",
            "Epoch 3/100\n",
            "366/366 [==============================] - 1s 2ms/step - loss: -739485248.0000 - accuracy: 0.0000e+00 - val_loss: -1263332352.0000 - val_accuracy: 0.0000e+00\n",
            "Epoch 4/100\n",
            "366/366 [==============================] - 1s 2ms/step - loss: -1985060480.0000 - accuracy: 0.0000e+00 - val_loss: -2919852544.0000 - val_accuracy: 0.0000e+00\n",
            "Epoch 5/100\n",
            "366/366 [==============================] - 1s 3ms/step - loss: -3991668736.0000 - accuracy: 0.0000e+00 - val_loss: -5371920896.0000 - val_accuracy: 0.0000e+00\n",
            "Epoch 6/100\n",
            "366/366 [==============================] - 1s 3ms/step - loss: -6828767232.0000 - accuracy: 0.0000e+00 - val_loss: -8731094016.0000 - val_accuracy: 0.0000e+00\n",
            "Epoch 7/100\n",
            "366/366 [==============================] - 1s 3ms/step - loss: -10568581120.0000 - accuracy: 0.0000e+00 - val_loss: -13041630208.0000 - val_accuracy: 0.0000e+00\n",
            "Epoch 8/100\n",
            "366/366 [==============================] - 1s 4ms/step - loss: -15300712448.0000 - accuracy: 0.0000e+00 - val_loss: -18399242240.0000 - val_accuracy: 0.0000e+00\n",
            "Epoch 9/100\n",
            "366/366 [==============================] - 1s 3ms/step - loss: -21014298624.0000 - accuracy: 0.0000e+00 - val_loss: -24731217920.0000 - val_accuracy: 0.0000e+00\n",
            "Epoch 10/100\n",
            "366/366 [==============================] - 1s 2ms/step - loss: -27716132864.0000 - accuracy: 0.0000e+00 - val_loss: -32112173056.0000 - val_accuracy: 0.0000e+00\n",
            "Epoch 11/100\n",
            "366/366 [==============================] - 1s 2ms/step - loss: -35517399040.0000 - accuracy: 0.0000e+00 - val_loss: -40668397568.0000 - val_accuracy: 0.0000e+00\n",
            "Epoch 12/100\n",
            "366/366 [==============================] - 1s 2ms/step - loss: -44450766848.0000 - accuracy: 0.0000e+00 - val_loss: -50354597888.0000 - val_accuracy: 0.0000e+00\n",
            "Epoch 13/100\n",
            "366/366 [==============================] - 1s 2ms/step - loss: -54613757952.0000 - accuracy: 0.0000e+00 - val_loss: -61414363136.0000 - val_accuracy: 0.0000e+00\n",
            "Epoch 14/100\n",
            "366/366 [==============================] - 1s 2ms/step - loss: -66022944768.0000 - accuracy: 0.0000e+00 - val_loss: -73710157824.0000 - val_accuracy: 0.0000e+00\n",
            "Epoch 15/100\n",
            "366/366 [==============================] - 1s 2ms/step - loss: -78714912768.0000 - accuracy: 0.0000e+00 - val_loss: -87330611200.0000 - val_accuracy: 0.0000e+00\n",
            "Epoch 16/100\n",
            "366/366 [==============================] - 1s 2ms/step - loss: -92674383872.0000 - accuracy: 0.0000e+00 - val_loss: -102225215488.0000 - val_accuracy: 0.0000e+00\n",
            "Epoch 17/100\n",
            "366/366 [==============================] - 1s 2ms/step - loss: -107981103104.0000 - accuracy: 0.0000e+00 - val_loss: -118557204480.0000 - val_accuracy: 0.0000e+00\n",
            "Epoch 18/100\n",
            "366/366 [==============================] - 1s 2ms/step - loss: -124616728576.0000 - accuracy: 0.0000e+00 - val_loss: -136207540224.0000 - val_accuracy: 0.0000e+00\n",
            "Epoch 19/100\n",
            "366/366 [==============================] - 1s 2ms/step - loss: -142705410048.0000 - accuracy: 0.0000e+00 - val_loss: -155540013056.0000 - val_accuracy: 0.0000e+00\n",
            "Epoch 20/100\n",
            "366/366 [==============================] - 1s 2ms/step - loss: -162209726464.0000 - accuracy: 0.0000e+00 - val_loss: -176079142912.0000 - val_accuracy: 0.0000e+00\n",
            "Epoch 21/100\n",
            "366/366 [==============================] - 1s 3ms/step - loss: -183110631424.0000 - accuracy: 0.0000e+00 - val_loss: -198264029184.0000 - val_accuracy: 0.0000e+00\n",
            "Epoch 22/100\n",
            "366/366 [==============================] - 1s 3ms/step - loss: -205651804160.0000 - accuracy: 0.0000e+00 - val_loss: -222138204160.0000 - val_accuracy: 0.0000e+00\n",
            "Epoch 23/100\n",
            "366/366 [==============================] - 1s 3ms/step - loss: -229775376384.0000 - accuracy: 0.0000e+00 - val_loss: -247563616256.0000 - val_accuracy: 0.0000e+00\n",
            "Epoch 24/100\n",
            "366/366 [==============================] - 1s 3ms/step - loss: -255615991808.0000 - accuracy: 0.0000e+00 - val_loss: -274802032640.0000 - val_accuracy: 0.0000e+00\n",
            "Epoch 25/100\n",
            "366/366 [==============================] - 1s 3ms/step - loss: -283245707264.0000 - accuracy: 0.0000e+00 - val_loss: -304013017088.0000 - val_accuracy: 0.0000e+00\n",
            "Epoch 26/100\n",
            "366/366 [==============================] - 1s 2ms/step - loss: -312501960704.0000 - accuracy: 0.0000e+00 - val_loss: -334652112896.0000 - val_accuracy: 0.0000e+00\n",
            "Epoch 27/100\n",
            "366/366 [==============================] - 1s 2ms/step - loss: -343507697664.0000 - accuracy: 0.0000e+00 - val_loss: -367232352256.0000 - val_accuracy: 0.0000e+00\n",
            "Epoch 28/100\n",
            "366/366 [==============================] - 1s 2ms/step - loss: -376259510272.0000 - accuracy: 0.0000e+00 - val_loss: -401603362816.0000 - val_accuracy: 0.0000e+00\n",
            "Epoch 29/100\n",
            "366/366 [==============================] - 1s 2ms/step - loss: -410897383424.0000 - accuracy: 0.0000e+00 - val_loss: -438229336064.0000 - val_accuracy: 0.0000e+00\n",
            "Epoch 30/100\n",
            "366/366 [==============================] - 1s 2ms/step - loss: -448342294528.0000 - accuracy: 0.0000e+00 - val_loss: -477777330176.0000 - val_accuracy: 0.0000e+00\n",
            "Epoch 31/100\n",
            "366/366 [==============================] - 1s 2ms/step - loss: -487934787584.0000 - accuracy: 0.0000e+00 - val_loss: -519075594240.0000 - val_accuracy: 0.0000e+00\n",
            "Epoch 32/100\n",
            "366/366 [==============================] - 1s 2ms/step - loss: -529573445632.0000 - accuracy: 0.0000e+00 - val_loss: -562784043008.0000 - val_accuracy: 0.0000e+00\n",
            "Epoch 33/100\n",
            "366/366 [==============================] - 1s 2ms/step - loss: -573530374144.0000 - accuracy: 0.0000e+00 - val_loss: -608722223104.0000 - val_accuracy: 0.0000e+00\n",
            "Epoch 34/100\n",
            "366/366 [==============================] - 1s 2ms/step - loss: -619433820160.0000 - accuracy: 0.0000e+00 - val_loss: -656781869056.0000 - val_accuracy: 0.0000e+00\n",
            "Epoch 35/100\n",
            "366/366 [==============================] - 1s 2ms/step - loss: -667647606784.0000 - accuracy: 0.0000e+00 - val_loss: -707161358336.0000 - val_accuracy: 0.0000e+00\n",
            "Epoch 36/100\n",
            "366/366 [==============================] - 1s 2ms/step - loss: -718232879104.0000 - accuracy: 0.0000e+00 - val_loss: -759956373504.0000 - val_accuracy: 0.0000e+00\n",
            "Epoch 37/100\n",
            "366/366 [==============================] - 1s 3ms/step - loss: -771171942400.0000 - accuracy: 0.0000e+00 - val_loss: -815322824704.0000 - val_accuracy: 0.0000e+00\n",
            "Epoch 38/100\n",
            "366/366 [==============================] - 1s 4ms/step - loss: -826760364032.0000 - accuracy: 0.0000e+00 - val_loss: -873569124352.0000 - val_accuracy: 0.0000e+00\n",
            "Epoch 39/100\n",
            "366/366 [==============================] - 1s 4ms/step - loss: -885334016000.0000 - accuracy: 0.0000e+00 - val_loss: -934822805504.0000 - val_accuracy: 0.0000e+00\n",
            "Epoch 40/100\n",
            "366/366 [==============================] - 1s 3ms/step - loss: -946497978368.0000 - accuracy: 0.0000e+00 - val_loss: -998551977984.0000 - val_accuracy: 0.0000e+00\n",
            "Epoch 41/100\n",
            "366/366 [==============================] - 1s 2ms/step - loss: -1010056429568.0000 - accuracy: 0.0000e+00 - val_loss: -1064615739392.0000 - val_accuracy: 0.0000e+00\n",
            "Epoch 42/100\n",
            "366/366 [==============================] - 1s 2ms/step - loss: -1075798867968.0000 - accuracy: 0.0000e+00 - val_loss: -1133054263296.0000 - val_accuracy: 0.0000e+00\n",
            "Epoch 43/100\n",
            "366/366 [==============================] - 1s 2ms/step - loss: -1144354766848.0000 - accuracy: 0.0000e+00 - val_loss: -1204498857984.0000 - val_accuracy: 0.0000e+00\n",
            "Epoch 44/100\n",
            "366/366 [==============================] - 1s 2ms/step - loss: -1215884951552.0000 - accuracy: 0.0000e+00 - val_loss: -1278844076032.0000 - val_accuracy: 0.0000e+00\n",
            "Epoch 45/100\n",
            "366/366 [==============================] - 1s 2ms/step - loss: -1289795403776.0000 - accuracy: 0.0000e+00 - val_loss: -1355509268480.0000 - val_accuracy: 0.0000e+00\n",
            "Epoch 46/100\n",
            "366/366 [==============================] - 1s 2ms/step - loss: -1366380249088.0000 - accuracy: 0.0000e+00 - val_loss: -1435217428480.0000 - val_accuracy: 0.0000e+00\n",
            "Epoch 47/100\n",
            "366/366 [==============================] - 1s 2ms/step - loss: -1446220660736.0000 - accuracy: 0.0000e+00 - val_loss: -1518638465024.0000 - val_accuracy: 0.0000e+00\n",
            "Epoch 48/100\n",
            "366/366 [==============================] - 1s 2ms/step - loss: -1529031426048.0000 - accuracy: 0.0000e+00 - val_loss: -1604391010304.0000 - val_accuracy: 0.0000e+00\n",
            "Epoch 49/100\n",
            "366/366 [==============================] - 1s 2ms/step - loss: -1614598373376.0000 - accuracy: 0.0000e+00 - val_loss: -1693365043200.0000 - val_accuracy: 0.0000e+00\n",
            "Epoch 50/100\n",
            "366/366 [==============================] - 1s 2ms/step - loss: -1703694696448.0000 - accuracy: 0.0000e+00 - val_loss: -1786164805632.0000 - val_accuracy: 0.0000e+00\n",
            "Epoch 51/100\n",
            "366/366 [==============================] - 1s 2ms/step - loss: -1795635150848.0000 - accuracy: 0.0000e+00 - val_loss: -1881565036544.0000 - val_accuracy: 0.0000e+00\n",
            "Epoch 52/100\n",
            "366/366 [==============================] - 1s 2ms/step - loss: -1890879537152.0000 - accuracy: 0.0000e+00 - val_loss: -1980698198016.0000 - val_accuracy: 0.0000e+00\n",
            "Epoch 53/100\n",
            "366/366 [==============================] - 1s 4ms/step - loss: -1989206474752.0000 - accuracy: 0.0000e+00 - val_loss: -2082260385792.0000 - val_accuracy: 0.0000e+00\n",
            "Epoch 54/100\n",
            "366/366 [==============================] - 1s 3ms/step - loss: -2090945871872.0000 - accuracy: 0.0000e+00 - val_loss: -2187858149376.0000 - val_accuracy: 0.0000e+00\n",
            "Epoch 55/100\n",
            "366/366 [==============================] - 1s 3ms/step - loss: -2195959578624.0000 - accuracy: 0.0000e+00 - val_loss: -2297414549504.0000 - val_accuracy: 0.0000e+00\n",
            "Epoch 56/100\n",
            "366/366 [==============================] - 1s 3ms/step - loss: -2304385220608.0000 - accuracy: 0.0000e+00 - val_loss: -2409489235968.0000 - val_accuracy: 0.0000e+00\n",
            "Epoch 57/100\n",
            "366/366 [==============================] - 1s 2ms/step - loss: -2416016883712.0000 - accuracy: 0.0000e+00 - val_loss: -2525112827904.0000 - val_accuracy: 0.0000e+00\n",
            "Epoch 58/100\n",
            "366/366 [==============================] - 1s 2ms/step - loss: -2530756526080.0000 - accuracy: 0.0000e+00 - val_loss: -2643883720704.0000 - val_accuracy: 0.0000e+00\n",
            "Epoch 59/100\n",
            "366/366 [==============================] - 1s 2ms/step - loss: -2649512214528.0000 - accuracy: 0.0000e+00 - val_loss: -2767485403136.0000 - val_accuracy: 0.0000e+00\n",
            "Epoch 60/100\n",
            "366/366 [==============================] - 1s 2ms/step - loss: -2771496730624.0000 - accuracy: 0.0000e+00 - val_loss: -2894094401536.0000 - val_accuracy: 0.0000e+00\n",
            "Epoch 61/100\n",
            "366/366 [==============================] - 1s 2ms/step - loss: -2897110892544.0000 - accuracy: 0.0000e+00 - val_loss: -3024154263552.0000 - val_accuracy: 0.0000e+00\n",
            "Epoch 62/100\n",
            "366/366 [==============================] - 1s 2ms/step - loss: -3026839404544.0000 - accuracy: 0.0000e+00 - val_loss: -3158738731008.0000 - val_accuracy: 0.0000e+00\n",
            "Epoch 63/100\n",
            "366/366 [==============================] - 1s 2ms/step - loss: -3160255496192.0000 - accuracy: 0.0000e+00 - val_loss: -3296863715328.0000 - val_accuracy: 0.0000e+00\n",
            "Epoch 64/100\n",
            "366/366 [==============================] - 1s 2ms/step - loss: -3297145782272.0000 - accuracy: 0.0000e+00 - val_loss: -3438515322880.0000 - val_accuracy: 0.0000e+00\n",
            "Epoch 65/100\n",
            "366/366 [==============================] - 1s 2ms/step - loss: -3437532282880.0000 - accuracy: 0.0000e+00 - val_loss: -3583565103104.0000 - val_accuracy: 0.0000e+00\n",
            "Epoch 66/100\n",
            "366/366 [==============================] - 1s 2ms/step - loss: -3581045637120.0000 - accuracy: 0.0000e+00 - val_loss: -3731605422080.0000 - val_accuracy: 0.0000e+00\n",
            "Epoch 67/100\n",
            "366/366 [==============================] - 1s 2ms/step - loss: -3729012031488.0000 - accuracy: 0.0000e+00 - val_loss: -3885460094976.0000 - val_accuracy: 0.0000e+00\n",
            "Epoch 68/100\n",
            "366/366 [==============================] - 1s 3ms/step - loss: -3881081241600.0000 - accuracy: 0.0000e+00 - val_loss: -4042689871872.0000 - val_accuracy: 0.0000e+00\n",
            "Epoch 69/100\n",
            "366/366 [==============================] - 1s 3ms/step - loss: -4037122457600.0000 - accuracy: 0.0000e+00 - val_loss: -4204460507136.0000 - val_accuracy: 0.0000e+00\n",
            "Epoch 70/100\n",
            "366/366 [==============================] - 1s 3ms/step - loss: -4197079842816.0000 - accuracy: 0.0000e+00 - val_loss: -4369593139200.0000 - val_accuracy: 0.0000e+00\n",
            "Epoch 71/100\n",
            "366/366 [==============================] - 1s 3ms/step - loss: -4360191606784.0000 - accuracy: 0.0000e+00 - val_loss: -4537356648448.0000 - val_accuracy: 0.0000e+00\n",
            "Epoch 72/100\n",
            "366/366 [==============================] - 1s 3ms/step - loss: -4527411429376.0000 - accuracy: 0.0000e+00 - val_loss: -4711542947840.0000 - val_accuracy: 0.0000e+00\n",
            "Epoch 73/100\n",
            "366/366 [==============================] - 1s 2ms/step - loss: -4698342948864.0000 - accuracy: 0.0000e+00 - val_loss: -4888142544896.0000 - val_accuracy: 0.0000e+00\n",
            "Epoch 74/100\n",
            "366/366 [==============================] - 1s 2ms/step - loss: -4874090577920.0000 - accuracy: 0.0000e+00 - val_loss: -5069338050560.0000 - val_accuracy: 0.0000e+00\n",
            "Epoch 75/100\n",
            "366/366 [==============================] - 1s 2ms/step - loss: -5054091231232.0000 - accuracy: 0.0000e+00 - val_loss: -5255774339072.0000 - val_accuracy: 0.0000e+00\n",
            "Epoch 76/100\n",
            "366/366 [==============================] - 1s 2ms/step - loss: -5238846652416.0000 - accuracy: 0.0000e+00 - val_loss: -5447350222848.0000 - val_accuracy: 0.0000e+00\n",
            "Epoch 77/100\n",
            "366/366 [==============================] - 1s 2ms/step - loss: -5428294975488.0000 - accuracy: 0.0000e+00 - val_loss: -5642713563136.0000 - val_accuracy: 0.0000e+00\n",
            "Epoch 78/100\n",
            "366/366 [==============================] - 1s 2ms/step - loss: -5622629138432.0000 - accuracy: 0.0000e+00 - val_loss: -5843336036352.0000 - val_accuracy: 0.0000e+00\n",
            "Epoch 79/100\n",
            "366/366 [==============================] - 1s 2ms/step - loss: -5819927625728.0000 - accuracy: 0.0000e+00 - val_loss: -6046215045120.0000 - val_accuracy: 0.0000e+00\n",
            "Epoch 80/100\n",
            "366/366 [==============================] - 1s 2ms/step - loss: -6020586799104.0000 - accuracy: 0.0000e+00 - val_loss: -6254054866944.0000 - val_accuracy: 0.0000e+00\n",
            "Epoch 81/100\n",
            "366/366 [==============================] - 1s 2ms/step - loss: -6226119753728.0000 - accuracy: 0.0000e+00 - val_loss: -6465984659456.0000 - val_accuracy: 0.0000e+00\n",
            "Epoch 82/100\n",
            "366/366 [==============================] - 1s 2ms/step - loss: -6437107400704.0000 - accuracy: 0.0000e+00 - val_loss: -6684515237888.0000 - val_accuracy: 0.0000e+00\n",
            "Epoch 83/100\n",
            "366/366 [==============================] - 1s 2ms/step - loss: -6652729753600.0000 - accuracy: 0.0000e+00 - val_loss: -6906593673216.0000 - val_accuracy: 0.0000e+00\n",
            "Epoch 84/100\n",
            "366/366 [==============================] - 1s 2ms/step - loss: -6872716804096.0000 - accuracy: 0.0000e+00 - val_loss: -7133977378816.0000 - val_accuracy: 0.0000e+00\n",
            "Epoch 85/100\n",
            "366/366 [==============================] - 1s 3ms/step - loss: -7097330696192.0000 - accuracy: 0.0000e+00 - val_loss: -7365786599424.0000 - val_accuracy: 0.0000e+00\n",
            "Epoch 86/100\n",
            "366/366 [==============================] - 1s 3ms/step - loss: -7326401036288.0000 - accuracy: 0.0000e+00 - val_loss: -7602196447232.0000 - val_accuracy: 0.0000e+00\n",
            "Epoch 87/100\n",
            "366/366 [==============================] - 1s 3ms/step - loss: -7560516075520.0000 - accuracy: 0.0000e+00 - val_loss: -7844444241920.0000 - val_accuracy: 0.0000e+00\n",
            "Epoch 88/100\n",
            "366/366 [==============================] - 1s 3ms/step - loss: -7798202040320.0000 - accuracy: 0.0000e+00 - val_loss: -8090037518336.0000 - val_accuracy: 0.0000e+00\n",
            "Epoch 89/100\n",
            "366/366 [==============================] - 1s 2ms/step - loss: -8041343746048.0000 - accuracy: 0.0000e+00 - val_loss: -8341249589248.0000 - val_accuracy: 0.0000e+00\n",
            "Epoch 90/100\n",
            "366/366 [==============================] - 1s 2ms/step - loss: -8289719943168.0000 - accuracy: 0.0000e+00 - val_loss: -8597736521728.0000 - val_accuracy: 0.0000e+00\n",
            "Epoch 91/100\n",
            "366/366 [==============================] - 1s 2ms/step - loss: -8543730663424.0000 - accuracy: 0.0000e+00 - val_loss: -8859805548544.0000 - val_accuracy: 0.0000e+00\n",
            "Epoch 92/100\n",
            "366/366 [==============================] - 1s 2ms/step - loss: -8803363848192.0000 - accuracy: 0.0000e+00 - val_loss: -9127559430144.0000 - val_accuracy: 0.0000e+00\n",
            "Epoch 93/100\n",
            "366/366 [==============================] - 1s 2ms/step - loss: -9066179985408.0000 - accuracy: 0.0000e+00 - val_loss: -9399243374592.0000 - val_accuracy: 0.0000e+00\n",
            "Epoch 94/100\n",
            "366/366 [==============================] - 1s 2ms/step - loss: -9335801380864.0000 - accuracy: 0.0000e+00 - val_loss: -9678117404672.0000 - val_accuracy: 0.0000e+00\n",
            "Epoch 95/100\n",
            "366/366 [==============================] - 1s 2ms/step - loss: -9611434262528.0000 - accuracy: 0.0000e+00 - val_loss: -9963109875712.0000 - val_accuracy: 0.0000e+00\n",
            "Epoch 96/100\n",
            "366/366 [==============================] - 1s 2ms/step - loss: -9891909468160.0000 - accuracy: 0.0000e+00 - val_loss: -10251650727936.0000 - val_accuracy: 0.0000e+00\n",
            "Epoch 97/100\n",
            "366/366 [==============================] - 1s 2ms/step - loss: -10177372749824.0000 - accuracy: 0.0000e+00 - val_loss: -10546564825088.0000 - val_accuracy: 0.0000e+00\n",
            "Epoch 98/100\n",
            "366/366 [==============================] - 1s 2ms/step - loss: -10468014948352.0000 - accuracy: 0.0000e+00 - val_loss: -10846187028480.0000 - val_accuracy: 0.0000e+00\n",
            "Epoch 99/100\n",
            "366/366 [==============================] - 1s 2ms/step - loss: -10763833966592.0000 - accuracy: 0.0000e+00 - val_loss: -11150882242560.0000 - val_accuracy: 0.0000e+00\n",
            "Epoch 100/100\n",
            "366/366 [==============================] - 1s 2ms/step - loss: -11064302370816.0000 - accuracy: 0.0000e+00 - val_loss: -11461635080192.0000 - val_accuracy: 0.0000e+00\n"
          ]
        },
        {
          "output_type": "execute_result",
          "data": {
            "text/plain": [
              "<keras.callbacks.History at 0x7f809c57bb50>"
            ]
          },
          "metadata": {},
          "execution_count": 11
        }
      ]
    },
    {
      "cell_type": "markdown",
      "source": [
        "**3. TEST THE MODEL**"
      ],
      "metadata": {
        "id": "Ypkj02thvOGS"
      }
    },
    {
      "cell_type": "code",
      "source": [
        "y_pred = model.predict(X_test)\n",
        "y_pred = (y_pred > 0.5)"
      ],
      "metadata": {
        "colab": {
          "base_uri": "https://localhost:8080/"
        },
        "id": "Yf5YN41nvSlJ",
        "outputId": "f637bcbe-224d-4508-e790-e1ddab97c5f4"
      },
      "execution_count": null,
      "outputs": [
        {
          "output_type": "stream",
          "name": "stdout",
          "text": [
            "92/92 [==============================] - 0s 1ms/step\n"
          ]
        }
      ]
    },
    {
      "cell_type": "markdown",
      "source": [
        "**EVALUATE THE MODEL**"
      ],
      "metadata": {
        "id": "JxJXWWVSvXak"
      }
    },
    {
      "cell_type": "code",
      "source": [
        "from sklearn.metrics import confusion_matrix\n",
        "cm = confusion_matrix(y_test, y_pred)\n",
        "print(cm)"
      ],
      "metadata": {
        "colab": {
          "base_uri": "https://localhost:8080/"
        },
        "id": "1QJFUtmKvamN",
        "outputId": "a0beef69-98fe-479c-f9fa-37bd24e6764b"
      },
      "execution_count": null,
      "outputs": [
        {
          "output_type": "stream",
          "name": "stdout",
          "text": [
            "[[0 0 0 ... 0 0 0]\n",
            " [0 0 0 ... 0 0 0]\n",
            " [1 0 0 ... 0 0 0]\n",
            " ...\n",
            " [0 1 0 ... 0 0 0]\n",
            " [0 1 0 ... 0 0 0]\n",
            " [1 0 0 ... 0 0 0]]\n"
          ]
        }
      ]
    }
  ]
}