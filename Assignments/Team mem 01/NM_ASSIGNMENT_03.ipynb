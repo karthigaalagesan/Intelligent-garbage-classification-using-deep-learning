{
  "nbformat": 4,
  "nbformat_minor": 0,
  "metadata": {
    "colab": {
      "provenance": []
    },
    "kernelspec": {
      "name": "python3",
      "display_name": "Python 3"
    },
    "language_info": {
      "name": "python"
    }
  },
  "cells": [
    {
      "cell_type": "markdown",
      "source": [
        "**1. IMPORT LIBRARIES**"
      ],
      "metadata": {
        "id": "bnCdRW3e9i3i"
      }
    },
    {
      "cell_type": "code",
      "source": [
        "from tensorflow import keras\n",
        "from keras.models import load_model\n",
        "from keras.preprocessing.image import ImageDataGenerator\n",
        "import imgaug.augmenters as iaa\n",
        "import cv2\n",
        "import os\n",
        "from keras.models import Sequential\n",
        "from keras.layers import Conv2D, MaxPooling2D, Flatten, Dense\n",
        "from sklearn.model_selection import train_test_split\n",
        "from sklearn.linear_model import LogisticRegression\n",
        "from sklearn.metrics import accuracy_score, precision_score, recall_score, f1_score\n",
        "import numpy as np\n",
        "import matplotlib.pyplot as plt\n",
        "import tensorflow as tf \n",
        "from tensorflow.keras import datasets, layers, models"
      ],
      "metadata": {
        "id": "9WhiUQmD9kBO"
      },
      "execution_count": null,
      "outputs": []
    },
    {
      "cell_type": "markdown",
      "source": [
        "**2. LOAD THE DATASET**"
      ],
      "metadata": {
        "id": "cTzWlPRs9-7T"
      }
    },
    {
      "cell_type": "code",
      "source": [
        "input_path = '/content/drive/MyDrive/NM/animals/antelope'\n",
        "output_path = '/content/drive/MyDrive/NM/animals'"
      ],
      "metadata": {
        "id": "-6YfGh4o9_zR"
      },
      "execution_count": null,
      "outputs": []
    },
    {
      "cell_type": "markdown",
      "source": [
        "**3. DATA AUGMENTATION**"
      ],
      "metadata": {
        "id": "z999RGpa-OuK"
      }
    },
    {
      "cell_type": "code",
      "source": [
        "from tensorflow.keras.preprocessing.image import ImageDataGenerator,array_to_img, img_to_array, load_img"
      ],
      "metadata": {
        "id": "aQJpoTV2-Rn6"
      },
      "execution_count": null,
      "outputs": []
    },
    {
      "cell_type": "code",
      "source": [
        "datagen = ImageDataGenerator(\n",
        "        rotation_range = 40,\n",
        "        shear_range = 0.2,\n",
        "        zoom_range = 0.2,\n",
        "        horizontal_flip = True,\n",
        "        brightness_range = (0.5, 1.5))"
      ],
      "metadata": {
        "id": "KgXuRgdU-Vdd"
      },
      "execution_count": null,
      "outputs": []
    },
    {
      "cell_type": "code",
      "source": [
        "img = load_img('/content/drive/MyDrive/NM/animals/bear/039b2ae790.jpg')"
      ],
      "metadata": {
        "id": "_D3Zyl4O-cPN"
      },
      "execution_count": null,
      "outputs": []
    },
    {
      "cell_type": "code",
      "source": [
        "x = img_to_array(img)"
      ],
      "metadata": {
        "id": "YfZQW7aI-kko"
      },
      "execution_count": null,
      "outputs": []
    },
    {
      "cell_type": "code",
      "source": [
        "x"
      ],
      "metadata": {
        "colab": {
          "base_uri": "https://localhost:8080/"
        },
        "id": "B4Ltukhg-lpA",
        "outputId": "565a9e48-7f30-4828-9ddc-0cdc3a61c3b3"
      },
      "execution_count": null,
      "outputs": [
        {
          "output_type": "execute_result",
          "data": {
            "text/plain": [
              "array([[[ 40.,  27.,  18.],\n",
              "        [ 40.,  27.,  18.],\n",
              "        [ 40.,  27.,  18.],\n",
              "        ...,\n",
              "        [ 70.,  43.,  22.],\n",
              "        [ 70.,  43.,  22.],\n",
              "        [ 70.,  43.,  22.]],\n",
              "\n",
              "       [[ 40.,  27.,  18.],\n",
              "        [ 40.,  27.,  18.],\n",
              "        [ 40.,  27.,  18.],\n",
              "        ...,\n",
              "        [ 70.,  43.,  22.],\n",
              "        [ 70.,  43.,  22.],\n",
              "        [ 70.,  43.,  22.]],\n",
              "\n",
              "       [[ 40.,  27.,  18.],\n",
              "        [ 40.,  27.,  18.],\n",
              "        [ 40.,  27.,  18.],\n",
              "        ...,\n",
              "        [ 70.,  43.,  22.],\n",
              "        [ 70.,  43.,  22.],\n",
              "        [ 70.,  43.,  22.]],\n",
              "\n",
              "       ...,\n",
              "\n",
              "       [[ 65.,  57.,  55.],\n",
              "        [ 99.,  91.,  89.],\n",
              "        [136., 126., 125.],\n",
              "        ...,\n",
              "        [158., 141., 123.],\n",
              "        [152., 135., 117.],\n",
              "        [151., 134., 116.]],\n",
              "\n",
              "       [[ 97.,  89.,  87.],\n",
              "        [ 96.,  86.,  85.],\n",
              "        [104.,  94.,  93.],\n",
              "        ...,\n",
              "        [151., 136., 117.],\n",
              "        [146., 131., 112.],\n",
              "        [142., 127., 108.]],\n",
              "\n",
              "       [[ 44.,  34.,  33.],\n",
              "        [ 52.,  42.,  41.],\n",
              "        [ 86.,  76.,  75.],\n",
              "        ...,\n",
              "        [136., 121., 102.],\n",
              "        [135., 120., 101.],\n",
              "        [132., 117.,  98.]]], dtype=float32)"
            ]
          },
          "metadata": {},
          "execution_count": 9
        }
      ]
    },
    {
      "cell_type": "code",
      "source": [
        "train_datagen=ImageDataGenerator(rescale=1./255,zoom_range=0.2,horizontal_flip=True,vertical_flip=False)"
      ],
      "metadata": {
        "id": "uYzkXrrp-poc"
      },
      "execution_count": null,
      "outputs": []
    },
    {
      "cell_type": "code",
      "source": [
        "train_datagen"
      ],
      "metadata": {
        "colab": {
          "base_uri": "https://localhost:8080/"
        },
        "id": "UvBDARRQ-rkq",
        "outputId": "37a694a2-28e6-47e5-a97b-928f9be2a914"
      },
      "execution_count": null,
      "outputs": [
        {
          "output_type": "execute_result",
          "data": {
            "text/plain": [
              "<keras.preprocessing.image.ImageDataGenerator at 0x7f9a4c505150>"
            ]
          },
          "metadata": {},
          "execution_count": 11
        }
      ]
    },
    {
      "cell_type": "markdown",
      "source": [
        "**4. BUILD THE CNN MODEL**"
      ],
      "metadata": {
        "id": "qDwLbFDk-tvd"
      }
    },
    {
      "cell_type": "code",
      "source": [
        "# Set the path to your test dataset and train dataset\n",
        "x = '/content/drive/MyDrive/NM/animals/antelope'\n",
        "y = '/content/drive/MyDrive/NM/animals/badger'"
      ],
      "metadata": {
        "id": "7KXchpOe-wy0"
      },
      "execution_count": null,
      "outputs": []
    },
    {
      "cell_type": "code",
      "source": [
        "# Initialize the model\n",
        "model = LogisticRegression()"
      ],
      "metadata": {
        "id": "qlaiz47S-74p"
      },
      "execution_count": null,
      "outputs": []
    },
    {
      "cell_type": "markdown",
      "source": [
        "**i) INPUT LAYER**"
      ],
      "metadata": {
        "id": "iKx8eLg8-85n"
      }
    },
    {
      "cell_type": "code",
      "source": [
        "model = Sequential()"
      ],
      "metadata": {
        "id": "bZCKi-tT_FAM"
      },
      "execution_count": null,
      "outputs": []
    },
    {
      "cell_type": "code",
      "source": [
        "model.add(Conv2D(32, (3, 3), activation='relu', input_shape=(64, 64, 3)))"
      ],
      "metadata": {
        "id": "335ImXm2_Irg"
      },
      "execution_count": null,
      "outputs": []
    },
    {
      "cell_type": "markdown",
      "source": [
        "**ii) MINIMUM 1 CONVOLUTION & 1 POOLING LAYER**"
      ],
      "metadata": {
        "id": "w7sZFqzx_Jsk"
      }
    },
    {
      "cell_type": "code",
      "source": [
        "model.add(MaxPooling2D(pool_size=(2, 2)))\n",
        "model.add(Conv2D(64, (3, 3), activation='relu'))\n",
        "model.add(MaxPooling2D(pool_size=(2, 2)))"
      ],
      "metadata": {
        "id": "U92X7HOk_L5w"
      },
      "execution_count": null,
      "outputs": []
    },
    {
      "cell_type": "markdown",
      "source": [
        "**iii) ONE FLATTEN LAYER**"
      ],
      "metadata": {
        "id": "5zOOBcHS_NpY"
      }
    },
    {
      "cell_type": "code",
      "source": [
        "model.add(Flatten())"
      ],
      "metadata": {
        "id": "KcLZmkFz_Pts"
      },
      "execution_count": null,
      "outputs": []
    },
    {
      "cell_type": "markdown",
      "source": [
        "**iv) MINIMUM 2 HIDDEN LAYERS**"
      ],
      "metadata": {
        "id": "dvkiCSH2_TWI"
      }
    },
    {
      "cell_type": "code",
      "source": [
        "model.add(Dense(128, activation='relu'))\n",
        "model.add(Dense(64, activation='relu'))"
      ],
      "metadata": {
        "id": "Z2mIlPH4_Vic"
      },
      "execution_count": null,
      "outputs": []
    },
    {
      "cell_type": "markdown",
      "source": [
        "**v) OUTPUT LAYER**"
      ],
      "metadata": {
        "id": "NfwIlriU_Ywh"
      }
    },
    {
      "cell_type": "code",
      "source": [
        "model.add(Dense(10, activation='softmax'))\n",
        "model.compile(optimizer='adam', loss='categorical_crossentropy', metrics=['accuracy'])"
      ],
      "metadata": {
        "id": "2nTdma-6_Zx0"
      },
      "execution_count": null,
      "outputs": []
    },
    {
      "cell_type": "code",
      "source": [
        "model.summary()"
      ],
      "metadata": {
        "colab": {
          "base_uri": "https://localhost:8080/"
        },
        "id": "AZd_lBBP_brh",
        "outputId": "e05dd865-f2e1-496f-9624-30a721cce48d"
      },
      "execution_count": null,
      "outputs": [
        {
          "output_type": "stream",
          "name": "stdout",
          "text": [
            "Model: \"sequential\"\n",
            "_________________________________________________________________\n",
            " Layer (type)                Output Shape              Param #   \n",
            "=================================================================\n",
            " conv2d (Conv2D)             (None, 62, 62, 32)        896       \n",
            "                                                                 \n",
            " max_pooling2d (MaxPooling2D  (None, 31, 31, 32)       0         \n",
            " )                                                               \n",
            "                                                                 \n",
            " conv2d_1 (Conv2D)           (None, 29, 29, 64)        18496     \n",
            "                                                                 \n",
            " max_pooling2d_1 (MaxPooling  (None, 14, 14, 64)       0         \n",
            " 2D)                                                             \n",
            "                                                                 \n",
            " flatten (Flatten)           (None, 12544)             0         \n",
            "                                                                 \n",
            " dense (Dense)               (None, 128)               1605760   \n",
            "                                                                 \n",
            " dense_1 (Dense)             (None, 64)                8256      \n",
            "                                                                 \n",
            " dense_2 (Dense)             (None, 10)                650       \n",
            "                                                                 \n",
            "=================================================================\n",
            "Total params: 1,634,058\n",
            "Trainable params: 1,634,058\n",
            "Non-trainable params: 0\n",
            "_________________________________________________________________\n"
          ]
        }
      ]
    },
    {
      "cell_type": "markdown",
      "source": [
        "**5. TEST THE MODEL**"
      ],
      "metadata": {
        "id": "6NosKnUe_dh8"
      }
    },
    {
      "cell_type": "code",
      "source": [
        "from tensorflow.keras.utils import load_img, img_to_array \n",
        "\n",
        "test_image = load_img('/content/drive/MyDrive/NM/animals/bear/04e5d04320.jpg', target_size = (64, 64))"
      ],
      "metadata": {
        "id": "uimegbjv_fu4"
      },
      "execution_count": null,
      "outputs": []
    },
    {
      "cell_type": "code",
      "source": [
        "test_image"
      ],
      "metadata": {
        "colab": {
          "base_uri": "https://localhost:8080/",
          "height": 81
        },
        "id": "qvrFJTIK_oWA",
        "outputId": "90684ace-7654-49ec-fa0e-f4541f5c7d37"
      },
      "execution_count": null,
      "outputs": [
        {
          "output_type": "execute_result",
          "data": {
            "text/plain": [
              "<PIL.Image.Image image mode=RGB size=64x64 at 0x7F9A4BD42E60>"
            ],
            "image/png": "[encoded data removed]"
          },
          "metadata": {},
          "execution_count": 26
        }
      ]
    },
    {
      "cell_type": "code",
      "source": [
        "x = img_to_array(test_image)\n",
        "x = np.expand_dims(x, axis =0)\n",
        "\n",
        "x.shape"
      ],
      "metadata": {
        "colab": {
          "base_uri": "https://localhost:8080/"
        },
        "id": "68Cstbs__qdE",
        "outputId": "453f6133-98b5-44f6-9ee1-c93030fa2bf4"
      },
      "execution_count": null,
      "outputs": [
        {
          "output_type": "execute_result",
          "data": {
            "text/plain": [
              "(1, 64, 64, 3)"
            ]
          },
          "metadata": {},
          "execution_count": 27
        }
      ]
    },
    {
      "cell_type": "code",
      "source": [
        "pred = np.argmax(model.predict(x), axis = 1)\n",
        "\n",
        "pred"
      ],
      "metadata": {
        "colab": {
          "base_uri": "https://localhost:8080/"
        },
        "id": "N4b3LBqt_sJV",
        "outputId": "b3b7ccf3-0686-4e19-b07b-9f59af85ee7f"
      },
      "execution_count": null,
      "outputs": [
        {
          "output_type": "stream",
          "name": "stdout",
          "text": [
            "1/1 [==============================] - 0s 422ms/step\n"
          ]
        },
        {
          "output_type": "execute_result",
          "data": {
            "text/plain": [
              "array([6])"
            ]
          },
          "metadata": {},
          "execution_count": 28
        }
      ]
    },
    {
      "cell_type": "code",
      "source": [
        "print(pred)"
      ],
      "metadata": {
        "colab": {
          "base_uri": "https://localhost:8080/"
        },
        "id": "6gFVeaxV_vFP",
        "outputId": "ff9b3635-e23a-451b-e755-527b08fe2e99"
      },
      "execution_count": null,
      "outputs": [
        {
          "output_type": "stream",
          "name": "stdout",
          "text": [
            "[6]\n"
          ]
        }
      ]
    }
  ]
}