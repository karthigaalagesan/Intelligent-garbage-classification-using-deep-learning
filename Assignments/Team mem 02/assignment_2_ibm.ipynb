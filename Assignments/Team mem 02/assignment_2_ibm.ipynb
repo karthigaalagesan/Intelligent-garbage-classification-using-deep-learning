{
  "nbformat": 4,
  "nbformat_minor": 0,
  "metadata": {
    "colab": {
      "provenance": []
    },
    "kernelspec": {
      "name": "python3",
      "display_name": "Python 3"
    },
    "language_info": {
      "name": "python"
    }
  },
  "cells": [
    {
      "cell_type": "code",
      "execution_count": 1,
      "metadata": {
        "id": "-yGNLy--BE8s"
      },
      "outputs": [],
      "source": [
        "import numpy as np\n",
        "import pandas as pd\n",
        "from sklearn.preprocessing import LabelEncoder, StandardScaler\n",
        "from keras.models import Sequential\n",
        "from keras.layers import Dense"
      ]
    },
    {
      "cell_type": "markdown",
      "source": [
        "Load the dataset which is needed"
      ],
      "metadata": {
        "id": "V12XYnV_BZv4"
      }
    },
    {
      "cell_type": "code",
      "source": [
        "from google.colab import drive\n",
        "drive.mount('/content/drive')\n"
      ],
      "metadata": {
        "colab": {
          "base_uri": "https://localhost:8080/"
        },
        "id": "9Ol57FLeBZ8T",
        "outputId": "1e1f9b28-878f-4508-d979-df93213336c0"
      },
      "execution_count": 2,
      "outputs": [
        {
          "output_type": "stream",
          "name": "stdout",
          "text": [
            "Mounted at /content/drive\n"
          ]
        }
      ]
    },
    {
      "cell_type": "code",
      "source": [
        "dataset = pd.read_csv('/content/drive/MyDrive/House Price India.csv')"
      ],
      "metadata": {
        "id": "dtlL2oe0BwaN"
      },
      "execution_count": 4,
      "outputs": []
    },
    {
      "cell_type": "markdown",
      "source": [
        "SEPARATE THE FEATURE AND TARGET VARIABLE"
      ],
      "metadata": {
        "id": "qnE6oY8xCD_2"
      }
    },
    {
      "cell_type": "code",
      "source": [
        "X = dataset.iloc[:, :-1].values\n",
        "y = dataset.iloc[:, -1].values\n"
      ],
      "metadata": {
        "id": "CQ2jrlttCFb8"
      },
      "execution_count": 5,
      "outputs": []
    },
    {
      "cell_type": "markdown",
      "source": [
        "1. PREPROCESS THE DATASET\n"
      ],
      "metadata": {
        "id": "XQuwEzwaCYfT"
      }
    },
    {
      "cell_type": "markdown",
      "source": [
        "SPLIT THE DATASET INTO TRAINING AND TESTING DATASET"
      ],
      "metadata": {
        "id": "LSFosT0aCfNU"
      }
    },
    {
      "cell_type": "code",
      "source": [
        "from sklearn.model_selection import train_test_split\n",
        "X_train, X_test, y_train, y_test = train_test_split(X, y, test_size=0.2, random_state=42)\n",
        "sc = StandardScaler()\n",
        "     "
      ],
      "metadata": {
        "id": "wgD7YZAMCgpz"
      },
      "execution_count": 6,
      "outputs": []
    },
    {
      "cell_type": "code",
      "source": [
        "X_train = sc.fit_transform(X_train)\n",
        "X_test = sc.fit_transform(X_test)\n"
      ],
      "metadata": {
        "id": "zR2PKal4Co4X"
      },
      "execution_count": 7,
      "outputs": []
    },
    {
      "cell_type": "markdown",
      "source": [
        "BUILD THE ANN MODEL"
      ],
      "metadata": {
        "id": "m5MiGJkOCszx"
      }
    },
    {
      "cell_type": "code",
      "source": [
        "# Initialize the ANN model :\n",
        "model = Sequential()"
      ],
      "metadata": {
        "id": "BvV0dKoYCz6T"
      },
      "execution_count": 8,
      "outputs": []
    },
    {
      "cell_type": "markdown",
      "source": [
        "A. INPUT LAYER AND B. MINIMUM TWO INPUT HIDDEN LAYERS"
      ],
      "metadata": {
        "id": "f_HA-ok9C4_8"
      }
    },
    {
      "cell_type": "code",
      "source": [
        "# Add the input layer and the first hidden layer :\n",
        "model.add(Dense(units=10, activation='relu', input_dim=X_train.shape[1]))\n",
        "     "
      ],
      "metadata": {
        "id": "IjrQ0GgAC7J1"
      },
      "execution_count": 9,
      "outputs": []
    },
    {
      "cell_type": "code",
      "source": [
        "# Add the second hidden layer :\n",
        "model.add(Dense(units=8, activation='relu'))"
      ],
      "metadata": {
        "id": "arK9fuNTDEYn"
      },
      "execution_count": 10,
      "outputs": []
    },
    {
      "cell_type": "markdown",
      "source": [
        "C. ADD THE OUTPUT LAYER"
      ],
      "metadata": {
        "id": "vqLJ4RzoDKGq"
      }
    },
    {
      "cell_type": "code",
      "source": [
        "# Add the output layer:\n",
        "model.add(Dense(units=1, activation='sigmoid'))\n",
        "     "
      ],
      "metadata": {
        "id": "6jHZ7zIxDOti"
      },
      "execution_count": 11,
      "outputs": []
    },
    {
      "cell_type": "code",
      "source": [
        "# Compile the model:\n",
        "model.compile(optimizer='adam', loss='binary_crossentropy', metrics=['accuracy'])\n"
      ],
      "metadata": {
        "id": "MgVRkY_3DjGz"
      },
      "execution_count": 13,
      "outputs": []
    },
    {
      "cell_type": "markdown",
      "source": [
        "TRAIN THE MODEL\n"
      ],
      "metadata": {
        "id": "lfjzH6w8Dyni"
      }
    },
    {
      "cell_type": "code",
      "source": [
        "model.fit(X_train, y_train, batch_size=32, epochs=100, validation_data=(X_test, y_test))\n"
      ],
      "metadata": {
        "colab": {
          "base_uri": "https://localhost:8080/"
        },
        "id": "COVcPXefD0fR",
        "outputId": "8437041e-92a4-44e7-f7f1-6152031bdd6d"
      },
      "execution_count": 15,
      "outputs": [
        {
          "output_type": "stream",
          "name": "stdout",
          "text": [
            "Epoch 1/100\n",
            "366/366 [==============================] - 2s 3ms/step - loss: -6188583.0000 - accuracy: 0.0000e+00 - val_loss: -23371084.0000 - val_accuracy: 0.0000e+00\n",
            "Epoch 2/100\n",
            "366/366 [==============================] - 1s 2ms/step - loss: -87996656.0000 - accuracy: 0.0000e+00 - val_loss: -193636944.0000 - val_accuracy: 0.0000e+00\n",
            "Epoch 3/100\n",
            "366/366 [==============================] - 1s 2ms/step - loss: -384948032.0000 - accuracy: 0.0000e+00 - val_loss: -647995072.0000 - val_accuracy: 0.0000e+00\n",
            "Epoch 4/100\n",
            "366/366 [==============================] - 1s 2ms/step - loss: -985456960.0000 - accuracy: 0.0000e+00 - val_loss: -1433987968.0000 - val_accuracy: 0.0000e+00\n",
            "Epoch 5/100\n",
            "366/366 [==============================] - 1s 2ms/step - loss: -1954789376.0000 - accuracy: 0.0000e+00 - val_loss: -2645134336.0000 - val_accuracy: 0.0000e+00\n",
            "Epoch 6/100\n",
            "366/366 [==============================] - 1s 2ms/step - loss: -3355307520.0000 - accuracy: 0.0000e+00 - val_loss: -4302587904.0000 - val_accuracy: 0.0000e+00\n",
            "Epoch 7/100\n",
            "366/366 [==============================] - 1s 2ms/step - loss: -5208032768.0000 - accuracy: 0.0000e+00 - val_loss: -6441450496.0000 - val_accuracy: 0.0000e+00\n",
            "Epoch 8/100\n",
            "366/366 [==============================] - 1s 2ms/step - loss: -7536371712.0000 - accuracy: 0.0000e+00 - val_loss: -9071975424.0000 - val_accuracy: 0.0000e+00\n",
            "Epoch 9/100\n",
            "366/366 [==============================] - 1s 2ms/step - loss: -10355909632.0000 - accuracy: 0.0000e+00 - val_loss: -12222691328.0000 - val_accuracy: 0.0000e+00\n",
            "Epoch 10/100\n",
            "366/366 [==============================] - 1s 2ms/step - loss: -13704100864.0000 - accuracy: 0.0000e+00 - val_loss: -15938347008.0000 - val_accuracy: 0.0000e+00\n",
            "Epoch 11/100\n",
            "366/366 [==============================] - 1s 2ms/step - loss: -17605804032.0000 - accuracy: 0.0000e+00 - val_loss: -20237031424.0000 - val_accuracy: 0.0000e+00\n",
            "Epoch 12/100\n",
            "366/366 [==============================] - 1s 4ms/step - loss: -22086758400.0000 - accuracy: 0.0000e+00 - val_loss: -25114724352.0000 - val_accuracy: 0.0000e+00\n",
            "Epoch 13/100\n",
            "366/366 [==============================] - 2s 5ms/step - loss: -27159779328.0000 - accuracy: 0.0000e+00 - val_loss: -30578487296.0000 - val_accuracy: 0.0000e+00\n",
            "Epoch 14/100\n",
            "366/366 [==============================] - 1s 4ms/step - loss: -32791080960.0000 - accuracy: 0.0000e+00 - val_loss: -36663873536.0000 - val_accuracy: 0.0000e+00\n",
            "Epoch 15/100\n",
            "366/366 [==============================] - 1s 2ms/step - loss: -39045218304.0000 - accuracy: 0.0000e+00 - val_loss: -43404738560.0000 - val_accuracy: 0.0000e+00\n",
            "Epoch 16/100\n",
            "366/366 [==============================] - 1s 2ms/step - loss: -45979402240.0000 - accuracy: 0.0000e+00 - val_loss: -50854322176.0000 - val_accuracy: 0.0000e+00\n",
            "Epoch 17/100\n",
            "366/366 [==============================] - 1s 3ms/step - loss: -53582204928.0000 - accuracy: 0.0000e+00 - val_loss: -58986401792.0000 - val_accuracy: 0.0000e+00\n",
            "Epoch 18/100\n",
            "366/366 [==============================] - 1s 2ms/step - loss: -61886664704.0000 - accuracy: 0.0000e+00 - val_loss: -67868188672.0000 - val_accuracy: 0.0000e+00\n",
            "Epoch 19/100\n",
            "366/366 [==============================] - 1s 2ms/step - loss: -70920404992.0000 - accuracy: 0.0000e+00 - val_loss: -77503143936.0000 - val_accuracy: 0.0000e+00\n",
            "Epoch 20/100\n",
            "366/366 [==============================] - 1s 2ms/step - loss: -80636190720.0000 - accuracy: 0.0000e+00 - val_loss: -87772880896.0000 - val_accuracy: 0.0000e+00\n",
            "Epoch 21/100\n",
            "366/366 [==============================] - 1s 2ms/step - loss: -91011678208.0000 - accuracy: 0.0000e+00 - val_loss: -98756141056.0000 - val_accuracy: 0.0000e+00\n",
            "Epoch 22/100\n",
            "366/366 [==============================] - 1s 3ms/step - loss: -102207856640.0000 - accuracy: 0.0000e+00 - val_loss: -110679261184.0000 - val_accuracy: 0.0000e+00\n",
            "Epoch 23/100\n",
            "366/366 [==============================] - 1s 2ms/step - loss: -114269929472.0000 - accuracy: 0.0000e+00 - val_loss: -123495464960.0000 - val_accuracy: 0.0000e+00\n",
            "Epoch 24/100\n",
            "366/366 [==============================] - 1s 2ms/step - loss: -127098003456.0000 - accuracy: 0.0000e+00 - val_loss: -136941453312.0000 - val_accuracy: 0.0000e+00\n",
            "Epoch 25/100\n",
            "366/366 [==============================] - 1s 2ms/step - loss: -140778930176.0000 - accuracy: 0.0000e+00 - val_loss: -151411326976.0000 - val_accuracy: 0.0000e+00\n",
            "Epoch 26/100\n",
            "366/366 [==============================] - 1s 3ms/step - loss: -155378810880.0000 - accuracy: 0.0000e+00 - val_loss: -166892339200.0000 - val_accuracy: 0.0000e+00\n",
            "Epoch 27/100\n",
            "366/366 [==============================] - 2s 6ms/step - loss: -170903846912.0000 - accuracy: 0.0000e+00 - val_loss: -183231430656.0000 - val_accuracy: 0.0000e+00\n",
            "Epoch 28/100\n",
            "366/366 [==============================] - 1s 4ms/step - loss: -187189379072.0000 - accuracy: 0.0000e+00 - val_loss: -200440954880.0000 - val_accuracy: 0.0000e+00\n",
            "Epoch 29/100\n",
            "366/366 [==============================] - 1s 2ms/step - loss: -204453396480.0000 - accuracy: 0.0000e+00 - val_loss: -218528333824.0000 - val_accuracy: 0.0000e+00\n",
            "Epoch 30/100\n",
            "366/366 [==============================] - 1s 2ms/step - loss: -222833934336.0000 - accuracy: 0.0000e+00 - val_loss: -237862486016.0000 - val_accuracy: 0.0000e+00\n",
            "Epoch 31/100\n",
            "366/366 [==============================] - 1s 2ms/step - loss: -241852334080.0000 - accuracy: 0.0000e+00 - val_loss: -257765441536.0000 - val_accuracy: 0.0000e+00\n",
            "Epoch 32/100\n",
            "366/366 [==============================] - 1s 2ms/step - loss: -261916262400.0000 - accuracy: 0.0000e+00 - val_loss: -278934847488.0000 - val_accuracy: 0.0000e+00\n",
            "Epoch 33/100\n",
            "366/366 [==============================] - 1s 2ms/step - loss: -283096645632.0000 - accuracy: 0.0000e+00 - val_loss: -301093421056.0000 - val_accuracy: 0.0000e+00\n",
            "Epoch 34/100\n",
            "366/366 [==============================] - 1s 2ms/step - loss: -305377443840.0000 - accuracy: 0.0000e+00 - val_loss: -324597481472.0000 - val_accuracy: 0.0000e+00\n",
            "Epoch 35/100\n",
            "366/366 [==============================] - 1s 2ms/step - loss: -328887336960.0000 - accuracy: 0.0000e+00 - val_loss: -349308452864.0000 - val_accuracy: 0.0000e+00\n",
            "Epoch 36/100\n",
            "366/366 [==============================] - 1s 2ms/step - loss: -353577271296.0000 - accuracy: 0.0000e+00 - val_loss: -375031988224.0000 - val_accuracy: 0.0000e+00\n",
            "Epoch 37/100\n",
            "366/366 [==============================] - 1s 2ms/step - loss: -379173568512.0000 - accuracy: 0.0000e+00 - val_loss: -401678008320.0000 - val_accuracy: 0.0000e+00\n",
            "Epoch 38/100\n",
            "366/366 [==============================] - 1s 2ms/step - loss: -405710864384.0000 - accuracy: 0.0000e+00 - val_loss: -429581959168.0000 - val_accuracy: 0.0000e+00\n",
            "Epoch 39/100\n",
            "366/366 [==============================] - 1s 2ms/step - loss: -433423155200.0000 - accuracy: 0.0000e+00 - val_loss: -458516168704.0000 - val_accuracy: 0.0000e+00\n",
            "Epoch 40/100\n",
            "366/366 [==============================] - 1s 2ms/step - loss: -462435352576.0000 - accuracy: 0.0000e+00 - val_loss: -488912224256.0000 - val_accuracy: 0.0000e+00\n",
            "Epoch 41/100\n",
            "366/366 [==============================] - 1s 3ms/step - loss: -492651184128.0000 - accuracy: 0.0000e+00 - val_loss: -520526266368.0000 - val_accuracy: 0.0000e+00\n",
            "Epoch 42/100\n",
            "366/366 [==============================] - 1s 3ms/step - loss: -524202082304.0000 - accuracy: 0.0000e+00 - val_loss: -553495887872.0000 - val_accuracy: 0.0000e+00\n",
            "Epoch 43/100\n",
            "366/366 [==============================] - 1s 3ms/step - loss: -557044989952.0000 - accuracy: 0.0000e+00 - val_loss: -587762368512.0000 - val_accuracy: 0.0000e+00\n",
            "Epoch 44/100\n",
            "366/366 [==============================] - 1s 3ms/step - loss: -591035105280.0000 - accuracy: 0.0000e+00 - val_loss: -623351627776.0000 - val_accuracy: 0.0000e+00\n",
            "Epoch 45/100\n",
            "366/366 [==============================] - 1s 3ms/step - loss: -626387189760.0000 - accuracy: 0.0000e+00 - val_loss: -660071841792.0000 - val_accuracy: 0.0000e+00\n",
            "Epoch 46/100\n",
            "366/366 [==============================] - 1s 2ms/step - loss: -663029350400.0000 - accuracy: 0.0000e+00 - val_loss: -698330316800.0000 - val_accuracy: 0.0000e+00\n",
            "Epoch 47/100\n",
            "366/366 [==============================] - 1s 2ms/step - loss: -700885303296.0000 - accuracy: 0.0000e+00 - val_loss: -737928740864.0000 - val_accuracy: 0.0000e+00\n",
            "Epoch 48/100\n",
            "366/366 [==============================] - 1s 2ms/step - loss: -740280893440.0000 - accuracy: 0.0000e+00 - val_loss: -779141644288.0000 - val_accuracy: 0.0000e+00\n",
            "Epoch 49/100\n",
            "366/366 [==============================] - 1s 2ms/step - loss: -781067419648.0000 - accuracy: 0.0000e+00 - val_loss: -821399519232.0000 - val_accuracy: 0.0000e+00\n",
            "Epoch 50/100\n",
            "366/366 [==============================] - 1s 2ms/step - loss: -823086481408.0000 - accuracy: 0.0000e+00 - val_loss: -865196965888.0000 - val_accuracy: 0.0000e+00\n",
            "Epoch 51/100\n",
            "366/366 [==============================] - 1s 2ms/step - loss: -866711175168.0000 - accuracy: 0.0000e+00 - val_loss: -910548860928.0000 - val_accuracy: 0.0000e+00\n",
            "Epoch 52/100\n",
            "366/366 [==============================] - 1s 2ms/step - loss: -911843655680.0000 - accuracy: 0.0000e+00 - val_loss: -957662953472.0000 - val_accuracy: 0.0000e+00\n",
            "Epoch 53/100\n",
            "366/366 [==============================] - 1s 2ms/step - loss: -957960421376.0000 - accuracy: 0.0000e+00 - val_loss: -1005435748352.0000 - val_accuracy: 0.0000e+00\n",
            "Epoch 54/100\n",
            "366/366 [==============================] - 1s 2ms/step - loss: -1005947387904.0000 - accuracy: 0.0000e+00 - val_loss: -1055652642816.0000 - val_accuracy: 0.0000e+00\n",
            "Epoch 55/100\n",
            "366/366 [==============================] - 1s 2ms/step - loss: -1055623413760.0000 - accuracy: 0.0000e+00 - val_loss: -1107310936064.0000 - val_accuracy: 0.0000e+00\n",
            "Epoch 56/100\n",
            "366/366 [==============================] - 1s 3ms/step - loss: -1106735005696.0000 - accuracy: 0.0000e+00 - val_loss: -1160378712064.0000 - val_accuracy: 0.0000e+00\n",
            "Epoch 57/100\n",
            "366/366 [==============================] - 1s 4ms/step - loss: -1159571701760.0000 - accuracy: 0.0000e+00 - val_loss: -1215344934912.0000 - val_accuracy: 0.0000e+00\n",
            "Epoch 58/100\n",
            "366/366 [==============================] - 1s 3ms/step - loss: -1213780459520.0000 - accuracy: 0.0000e+00 - val_loss: -1271383851008.0000 - val_accuracy: 0.0000e+00\n",
            "Epoch 59/100\n",
            "366/366 [==============================] - 1s 3ms/step - loss: -1269496938496.0000 - accuracy: 0.0000e+00 - val_loss: -1329587027968.0000 - val_accuracy: 0.0000e+00\n",
            "Epoch 60/100\n",
            "366/366 [==============================] - 1s 2ms/step - loss: -1326904901632.0000 - accuracy: 0.0000e+00 - val_loss: -1389156892672.0000 - val_accuracy: 0.0000e+00\n",
            "Epoch 61/100\n",
            "366/366 [==============================] - 1s 2ms/step - loss: -1385441656832.0000 - accuracy: 0.0000e+00 - val_loss: -1449773629440.0000 - val_accuracy: 0.0000e+00\n",
            "Epoch 62/100\n",
            "366/366 [==============================] - 1s 2ms/step - loss: -1445558353920.0000 - accuracy: 0.0000e+00 - val_loss: -1512281604096.0000 - val_accuracy: 0.0000e+00\n",
            "Epoch 63/100\n",
            "366/366 [==============================] - 2s 5ms/step - loss: -1507849928704.0000 - accuracy: 0.0000e+00 - val_loss: -1577402630144.0000 - val_accuracy: 0.0000e+00\n",
            "Epoch 64/100\n",
            "366/366 [==============================] - 1s 4ms/step - loss: -1571961569280.0000 - accuracy: 0.0000e+00 - val_loss: -1643877105664.0000 - val_accuracy: 0.0000e+00\n",
            "Epoch 65/100\n",
            "366/366 [==============================] - 1s 2ms/step - loss: -1637739528192.0000 - accuracy: 0.0000e+00 - val_loss: -1711997583360.0000 - val_accuracy: 0.0000e+00\n",
            "Epoch 66/100\n",
            "366/366 [==============================] - 1s 2ms/step - loss: -1705313959936.0000 - accuracy: 0.0000e+00 - val_loss: -1782191620096.0000 - val_accuracy: 0.0000e+00\n",
            "Epoch 67/100\n",
            "366/366 [==============================] - 1s 2ms/step - loss: -1774508310528.0000 - accuracy: 0.0000e+00 - val_loss: -1853729538048.0000 - val_accuracy: 0.0000e+00\n",
            "Epoch 68/100\n",
            "366/366 [==============================] - 1s 2ms/step - loss: -1845550252032.0000 - accuracy: 0.0000e+00 - val_loss: -1927658471424.0000 - val_accuracy: 0.0000e+00\n",
            "Epoch 69/100\n",
            "366/366 [==============================] - 1s 3ms/step - loss: -1918253531136.0000 - accuracy: 0.0000e+00 - val_loss: -2002777145344.0000 - val_accuracy: 0.0000e+00\n",
            "Epoch 70/100\n",
            "366/366 [==============================] - 1s 3ms/step - loss: -1992617623552.0000 - accuracy: 0.0000e+00 - val_loss: -2080118145024.0000 - val_accuracy: 0.0000e+00\n",
            "Epoch 71/100\n",
            "366/366 [==============================] - 1s 3ms/step - loss: -2069106524160.0000 - accuracy: 0.0000e+00 - val_loss: -2159540699136.0000 - val_accuracy: 0.0000e+00\n",
            "Epoch 72/100\n",
            "366/366 [==============================] - 3s 7ms/step - loss: -2147463462912.0000 - accuracy: 0.0000e+00 - val_loss: -2240601653248.0000 - val_accuracy: 0.0000e+00\n",
            "Epoch 73/100\n",
            "366/366 [==============================] - 1s 2ms/step - loss: -2227374653440.0000 - accuracy: 0.0000e+00 - val_loss: -2323406651392.0000 - val_accuracy: 0.0000e+00\n",
            "Epoch 74/100\n",
            "366/366 [==============================] - 1s 2ms/step - loss: -2309162270720.0000 - accuracy: 0.0000e+00 - val_loss: -2408451670016.0000 - val_accuracy: 0.0000e+00\n",
            "Epoch 75/100\n",
            "366/366 [==============================] - 1s 4ms/step - loss: -2393083740160.0000 - accuracy: 0.0000e+00 - val_loss: -2495374426112.0000 - val_accuracy: 0.0000e+00\n",
            "Epoch 76/100\n",
            "366/366 [==============================] - 1s 2ms/step - loss: -2479204859904.0000 - accuracy: 0.0000e+00 - val_loss: -2584715722752.0000 - val_accuracy: 0.0000e+00\n",
            "Epoch 77/100\n",
            "366/366 [==============================] - 1s 2ms/step - loss: -2567539785728.0000 - accuracy: 0.0000e+00 - val_loss: -2676060585984.0000 - val_accuracy: 0.0000e+00\n",
            "Epoch 78/100\n",
            "366/366 [==============================] - 1s 2ms/step - loss: -2657534607360.0000 - accuracy: 0.0000e+00 - val_loss: -2769540874240.0000 - val_accuracy: 0.0000e+00\n",
            "Epoch 79/100\n",
            "366/366 [==============================] - 1s 2ms/step - loss: -2749542957056.0000 - accuracy: 0.0000e+00 - val_loss: -2864443555840.0000 - val_accuracy: 0.0000e+00\n",
            "Epoch 80/100\n",
            "366/366 [==============================] - 1s 2ms/step - loss: -2843417509888.0000 - accuracy: 0.0000e+00 - val_loss: -2961802264576.0000 - val_accuracy: 0.0000e+00\n",
            "Epoch 81/100\n",
            "366/366 [==============================] - 1s 2ms/step - loss: -2938832683008.0000 - accuracy: 0.0000e+00 - val_loss: -3060520976384.0000 - val_accuracy: 0.0000e+00\n",
            "Epoch 82/100\n",
            "366/366 [==============================] - 1s 2ms/step - loss: -3036447768576.0000 - accuracy: 0.0000e+00 - val_loss: -3161899401216.0000 - val_accuracy: 0.0000e+00\n",
            "Epoch 83/100\n",
            "366/366 [==============================] - 1s 3ms/step - loss: -3136259096576.0000 - accuracy: 0.0000e+00 - val_loss: -3265108639744.0000 - val_accuracy: 0.0000e+00\n",
            "Epoch 84/100\n",
            "366/366 [==============================] - 3s 9ms/step - loss: -3238610862080.0000 - accuracy: 0.0000e+00 - val_loss: -3371458887680.0000 - val_accuracy: 0.0000e+00\n",
            "Epoch 85/100\n",
            "366/366 [==============================] - 3s 7ms/step - loss: -3343334506496.0000 - accuracy: 0.0000e+00 - val_loss: -3479497080832.0000 - val_accuracy: 0.0000e+00\n",
            "Epoch 86/100\n",
            "366/366 [==============================] - 1s 3ms/step - loss: -3450260160512.0000 - accuracy: 0.0000e+00 - val_loss: -3590383992832.0000 - val_accuracy: 0.0000e+00\n",
            "Epoch 87/100\n",
            "366/366 [==============================] - 1s 2ms/step - loss: -3558951092224.0000 - accuracy: 0.0000e+00 - val_loss: -3703046144000.0000 - val_accuracy: 0.0000e+00\n",
            "Epoch 88/100\n",
            "366/366 [==============================] - 1s 2ms/step - loss: -3669754642432.0000 - accuracy: 0.0000e+00 - val_loss: -3817290334208.0000 - val_accuracy: 0.0000e+00\n",
            "Epoch 89/100\n",
            "366/366 [==============================] - 1s 2ms/step - loss: -3782955237376.0000 - accuracy: 0.0000e+00 - val_loss: -3934653513728.0000 - val_accuracy: 0.0000e+00\n",
            "Epoch 90/100\n",
            "366/366 [==============================] - 1s 2ms/step - loss: -3898581450752.0000 - accuracy: 0.0000e+00 - val_loss: -4054338502656.0000 - val_accuracy: 0.0000e+00\n",
            "Epoch 91/100\n",
            "366/366 [==============================] - 1s 2ms/step - loss: -4015365554176.0000 - accuracy: 0.0000e+00 - val_loss: -4174536769536.0000 - val_accuracy: 0.0000e+00\n",
            "Epoch 92/100\n",
            "366/366 [==============================] - 1s 2ms/step - loss: -4134337773568.0000 - accuracy: 0.0000e+00 - val_loss: -4298238066688.0000 - val_accuracy: 0.0000e+00\n",
            "Epoch 93/100\n",
            "366/366 [==============================] - 1s 2ms/step - loss: -4256056213504.0000 - accuracy: 0.0000e+00 - val_loss: -4423650639872.0000 - val_accuracy: 0.0000e+00\n",
            "Epoch 94/100\n",
            "366/366 [==============================] - 1s 2ms/step - loss: -4380527427584.0000 - accuracy: 0.0000e+00 - val_loss: -4552849358848.0000 - val_accuracy: 0.0000e+00\n",
            "Epoch 95/100\n",
            "366/366 [==============================] - 1s 3ms/step - loss: -4507174436864.0000 - accuracy: 0.0000e+00 - val_loss: -4684027265024.0000 - val_accuracy: 0.0000e+00\n",
            "Epoch 96/100\n",
            "366/366 [==============================] - 1s 4ms/step - loss: -4636132507648.0000 - accuracy: 0.0000e+00 - val_loss: -4817196417024.0000 - val_accuracy: 0.0000e+00\n",
            "Epoch 97/100\n",
            "366/366 [==============================] - 1s 3ms/step - loss: -4767543721984.0000 - accuracy: 0.0000e+00 - val_loss: -4952816091136.0000 - val_accuracy: 0.0000e+00\n",
            "Epoch 98/100\n",
            "366/366 [==============================] - 1s 3ms/step - loss: -4901619367936.0000 - accuracy: 0.0000e+00 - val_loss: -5092113645568.0000 - val_accuracy: 0.0000e+00\n",
            "Epoch 99/100\n",
            "366/366 [==============================] - 1s 3ms/step - loss: -5038823964672.0000 - accuracy: 0.0000e+00 - val_loss: -5233583325184.0000 - val_accuracy: 0.0000e+00\n",
            "Epoch 100/100\n",
            "366/366 [==============================] - 1s 2ms/step - loss: -5178486947840.0000 - accuracy: 0.0000e+00 - val_loss: -5378293104640.0000 - val_accuracy: 0.0000e+00\n"
          ]
        },
        {
          "output_type": "execute_result",
          "data": {
            "text/plain": [
              "<keras.callbacks.History at 0x7fb60a51b610>"
            ]
          },
          "metadata": {},
          "execution_count": 15
        }
      ]
    },
    {
      "cell_type": "markdown",
      "source": [
        "3. TEST THE MODEL"
      ],
      "metadata": {
        "id": "qTtTj_yqD6EQ"
      }
    },
    {
      "cell_type": "code",
      "source": [
        "y_pred = model.predict(X_test)\n",
        "y_pred = (y_pred > 0.5)\n"
      ],
      "metadata": {
        "colab": {
          "base_uri": "https://localhost:8080/"
        },
        "id": "CxQmcWjsD8XR",
        "outputId": "cf3a8dc1-b3cf-4eb8-a441-38c9bfe829f7"
      },
      "execution_count": 16,
      "outputs": [
        {
          "output_type": "stream",
          "name": "stdout",
          "text": [
            "92/92 [==============================] - 0s 1ms/step\n"
          ]
        }
      ]
    },
    {
      "cell_type": "markdown",
      "source": [
        "EVALUATE THE MODEL"
      ],
      "metadata": {
        "id": "xApq8VnDEGD-"
      }
    },
    {
      "cell_type": "code",
      "source": [
        "from sklearn.metrics import confusion_matrix\n",
        "cm = confusion_matrix(y_test, y_pred)\n",
        "print(cm)"
      ],
      "metadata": {
        "colab": {
          "base_uri": "https://localhost:8080/"
        },
        "id": "70U3C0REEJfc",
        "outputId": "499c5f8b-a243-4edd-90f9-bec29a796711"
      },
      "execution_count": 17,
      "outputs": [
        {
          "output_type": "stream",
          "name": "stdout",
          "text": [
            "[[0 0 0 ... 0 0 0]\n",
            " [1 0 0 ... 0 0 0]\n",
            " [1 0 0 ... 0 0 0]\n",
            " ...\n",
            " [1 0 0 ... 0 0 0]\n",
            " [1 0 0 ... 0 0 0]\n",
            " [1 0 0 ... 0 0 0]]\n"
          ]
        }
      ]
    }
  ]
}